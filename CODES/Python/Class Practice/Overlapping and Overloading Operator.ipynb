{
 "cells": [
  {
   "cell_type": "code",
   "execution_count": 2,
   "id": "deae27e3-ffb0-44b0-ba9f-9b59ec9a83a5",
   "metadata": {},
   "outputs": [
    {
     "name": "stdout",
     "output_type": "stream",
     "text": [
      "Addition: 8\n",
      "Subtraction: 2\n",
      "Multiplication: 15\n",
      "Division: 1.6666666666666667\n",
      "Equality: False\n",
      "Less Than: False\n",
      "Greater Than: True\n"
     ]
    }
   ],
   "source": [
    "class MyClass:\n",
    "    def __init__(self, value):\n",
    "        self.value = value\n",
    "    def __add__(self, other):     # Addition (+)\n",
    "        return self.value + other.value\n",
    "    def __sub__(self, other):    # Subtraction (-)\n",
    "        return self.value - other.value\n",
    "    def __mul__(self, other):    # Multiplication (*)\n",
    "        return self.value * other.value\n",
    "    def __truediv__(self, other):    # Division (/)\n",
    "        return self.value / other.value\n",
    "    def __eq__(self, other):    # Equality (==)\n",
    "        return self.value == other.value\n",
    "    def __lt__(self, other):    # Less Than (<)\n",
    "        return self.value < other.value\n",
    "    def __gt__(self, other):    # Greater Than (>)\n",
    "        return self.value > other.value\n",
    "\n",
    "obj1 = MyClass(5)\n",
    "obj2 = MyClass(3)\n",
    "\n",
    "print(\"Addition:\", obj1 + obj2)\n",
    "print(\"Subtraction:\", obj1 - obj2)\n",
    "print(\"Multiplication:\", obj1 * obj2)  \n",
    "print(\"Division:\", obj1 / obj2)  \n",
    "print(\"Equality:\", obj1 == obj2) \n",
    "print(\"Less Than:\", obj1 < obj2)\n",
    "print(\"Greater Than:\", obj1 > obj2) "
   ]
  },
  {
   "cell_type": "code",
   "execution_count": null,
   "id": "36bda657-9746-424d-b2b1-5b09b96ec2ad",
   "metadata": {},
   "outputs": [],
   "source": [
    " "
   ]
  }
 ],
 "metadata": {
  "kernelspec": {
   "display_name": "Python 3 (ipykernel)",
   "language": "python",
   "name": "python3"
  },
  "language_info": {
   "codemirror_mode": {
    "name": "ipython",
    "version": 3
   },
   "file_extension": ".py",
   "mimetype": "text/x-python",
   "name": "python",
   "nbconvert_exporter": "python",
   "pygments_lexer": "ipython3",
   "version": "3.12.5"
  }
 },
 "nbformat": 4,
 "nbformat_minor": 5
}
