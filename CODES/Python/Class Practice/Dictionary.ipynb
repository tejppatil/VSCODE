{
 "cells": [
  {
   "cell_type": "code",
   "execution_count": 1,
   "id": "0dde3202-b443-4ae5-9d6b-2ff83c358a1b",
   "metadata": {},
   "outputs": [
    {
     "name": "stdout",
     "output_type": "stream",
     "text": [
      "{'name': 'John', 'age': 30, 'city': 'New York'}\n"
     ]
    }
   ],
   "source": [
    "#creating a dictionary\n",
    "person ={\"name\":\"John\",\"age\":30,\"city\":\"New York\"}\n",
    "print(person)"
   ]
  },
  {
   "cell_type": "code",
   "execution_count": 2,
   "id": "645081ea-92db-4013-8e97-edcd10ee9dc5",
   "metadata": {},
   "outputs": [
    {
     "name": "stdout",
     "output_type": "stream",
     "text": [
      "Another Dictionary :  {'name': 'Alice', 'age': 25, 'city': 'San Fransisco'}\n"
     ]
    }
   ],
   "source": [
    "#creating a disctionary using adict() constructor\n",
    "another_dict = dict(name=\"Alice\",age=25,city=\"San Fransisco\")\n",
    "print(\"Another Dictionary : \",another_dict)"
   ]
  },
  {
   "cell_type": "code",
   "execution_count": 3,
   "id": "d4f55ad4-5558-4d45-bc97-dae3db2578d1",
   "metadata": {},
   "outputs": [
    {
     "name": "stdout",
     "output_type": "stream",
     "text": [
      "John\n"
     ]
    }
   ],
   "source": [
    "#Accessing an element of the dictinonary\n",
    "print(person[\"name\"])"
   ]
  },
  {
   "cell_type": "code",
   "execution_count": 4,
   "id": "0cae08a6-7cb9-43ce-8816-6d8b0efe63c3",
   "metadata": {},
   "outputs": [
    {
     "name": "stdout",
     "output_type": "stream",
     "text": [
      "Name:  Alice\n",
      "Age:  25\n"
     ]
    }
   ],
   "source": [
    "##Accessing values using square brackets\n",
    "print(\"Name: \",another_dict['name'])\n",
    "#Accessing values using the get() method\n",
    "print(\"Age: \",another_dict.get('age'))"
   ]
  },
  {
   "cell_type": "code",
   "execution_count": 5,
   "id": "0ae293c1-fdd8-43ae-a8d6-033c65776a90",
   "metadata": {},
   "outputs": [
    {
     "name": "stdout",
     "output_type": "stream",
     "text": [
      "After adding gender {'name': 'Alice', 'age': 25, 'city': 'San Fransisco', 'gender': 'Female'}\n",
      "After updating age: {'name': 'Alice', 'age': 35, 'city': 'San Fransisco', 'gender': 'Female'}\n"
     ]
    }
   ],
   "source": [
    "#adding a new key-value pair\n",
    "another_dict['gender']=\"Female\"\n",
    "print(\"After adding gender\",another_dict)\n",
    "#updating the value of an existing key\n",
    "another_dict['age']=35\n",
    "print(\"After updating age:\",another_dict)"
   ]
  },
  {
   "cell_type": "code",
   "execution_count": 6,
   "id": "36ca7f61-2e07-4fef-b9ae-204581ce54cb",
   "metadata": {},
   "outputs": [
    {
     "name": "stdout",
     "output_type": "stream",
     "text": [
      "{'name': 'John', 'city': 'New York'}\n"
     ]
    }
   ],
   "source": [
    "#removing a key value pair from the disctionary\n",
    "del person[\"age\"]\n",
    "print(person)"
   ]
  },
  {
   "cell_type": "code",
   "execution_count": 9,
   "id": "e6bd82b3-3da2-45dc-a4bd-3866c9531705",
   "metadata": {},
   "outputs": [
    {
     "name": "stdout",
     "output_type": "stream",
     "text": [
      "True\n",
      "False\n"
     ]
    }
   ],
   "source": [
    "#checking if akey in the disctionary\n",
    "print(\"name\" in person)\n",
    "print(\"age\" in person)"
   ]
  },
  {
   "cell_type": "code",
   "execution_count": 10,
   "id": "1bc75e0a-afce-4cf7-be7c-5e3ffcecfa09",
   "metadata": {},
   "outputs": [
    {
     "name": "stdout",
     "output_type": "stream",
     "text": [
      "Keys: dict_keys(['name', 'age', 'city', 'gender'])\n",
      "values: dict_values(['Alice', 35, 'San Fransisco', 'Female'])\n",
      "items: dict_items([('name', 'Alice'), ('age', 35), ('city', 'San Fransisco'), ('gender', 'Female')])\n",
      "Is 'age' a key in my_dict? True\n",
      "Is 30 a key in my_dict? False\n",
      "Length of my_dict: 4\n"
     ]
    }
   ],
   "source": [
    "#getting keys\n",
    "keys=another_dict.keys()\n",
    "print(\"Keys:\",keys)\n",
    "#getting values\n",
    "values=another_dict.values()\n",
    "print(\"values:\",values)\n",
    "#getting key-value pair\n",
    "items=another_dict.items()\n",
    "print(\"items:\",items)\n",
    "#checking membership\n",
    "print(\"Is 'age' a key in my_dict?\",'age' in another_dict)\n",
    "print(\"Is 30 a key in my_dict?\",30 in another_dict)\n",
    "#lenghtb of the dictionary\n",
    "print(\"Length of my_dict:\",len(another_dict))"
   ]
  },
  {
   "cell_type": "code",
   "execution_count": 13,
   "id": "476c7621-a804-4089-9925-20f0358fa592",
   "metadata": {},
   "outputs": [
    {
     "name": "stdout",
     "output_type": "stream",
     "text": [
      "Alice\n",
      "35\n",
      "San Fransisco\n",
      "Female\n",
      "___________________________\n",
      "name\n",
      "age\n",
      "city\n",
      "gender\n",
      "___________________________\n",
      "name Alice\n",
      "age 35\n",
      "city San Fransisco\n",
      "gender Female\n"
     ]
    }
   ],
   "source": [
    "#loop over another_dict values\n",
    "for val in  another_dict.values():\n",
    "    print(val)\n",
    "print(\"___________________________\")\n",
    "#loop over the another_dict values\n",
    "for key in  another_dict.keys():\n",
    "    print(key)\n",
    "print(\"___________________________\")\n",
    "for key,val in  another_dict.items():\n",
    "    print(key,val)"
   ]
  },
  {
   "cell_type": "code",
   "execution_count": 17,
   "id": "72a7bdba-9dc2-49a3-9afd-cd25bdb2bb7e",
   "metadata": {},
   "outputs": [
    {
     "name": "stdout",
     "output_type": "stream",
     "text": [
      "The Gujarat  state has capitals -> Gandhinagar\n",
      "The Maharashtra  state has capitals -> Mumbai\n",
      "The Rajasthan  state has capitals -> Jaipur\n",
      "The Bihar  state has capitals -> Patna\n"
     ]
    }
   ],
   "source": [
    "statesandcapitals={\n",
    "    'Gujarat':'Gandhinagar',\n",
    "    'Maharashtra':'Mumbai',\n",
    "    'Rajasthan':'Jaipur',\n",
    "    'Bihar':'Patna'}\n",
    "for key,val in statesandcapitals.items():\n",
    "    print(\"The\",key,\" state has capitals ->\",val)"
   ]
  },
  {
   "cell_type": "code",
   "execution_count": null,
   "id": "dbeea6bb-b9f3-4567-a350-59672912e301",
   "metadata": {},
   "outputs": [],
   "source": []
  }
 ],
 "metadata": {
  "kernelspec": {
   "display_name": "Python 3 (ipykernel)",
   "language": "python",
   "name": "python3"
  },
  "language_info": {
   "codemirror_mode": {
    "name": "ipython",
    "version": 3
   },
   "file_extension": ".py",
   "mimetype": "text/x-python",
   "name": "python",
   "nbconvert_exporter": "python",
   "pygments_lexer": "ipython3",
   "version": "3.12.5"
  }
 },
 "nbformat": 4,
 "nbformat_minor": 5
}
