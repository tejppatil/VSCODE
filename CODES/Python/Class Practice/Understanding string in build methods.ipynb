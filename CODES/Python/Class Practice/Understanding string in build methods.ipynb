{
 "cells": [
  {
   "cell_type": "raw",
   "id": "041513b4-0a49-4c4f-b0f1-39a28488153a",
   "metadata": {},
   "source": [
    "Problem Statement:Extracting Usernames\n",
    "\n",
    "Scenario:Imagine you're building a user registration system for a social media platform. Users enter their full names during registration\n",
    "but you need to extrct their usernames from these names.\n",
    "\n",
    "Task:Write apython program that takes a full name as input ad returns the correcponding username.The username should be the first letter of the users\n",
    "first name followed by their entire last name(all lowercase)"
   ]
  },
  {
   "cell_type": "code",
   "execution_count": null,
   "id": "2a7de929-bdec-4cf0-8cf1-fe257b3be179",
   "metadata": {},
   "outputs": [],
   "source": []
  },
  {
   "cell_type": "raw",
   "id": "9893f4dc-f17c-4011-b944-a93138bead78",
   "metadata": {},
   "source": [
    "Problem Statement: Reversing a sentence\n",
    "\n",
    "Scenario:You're building a text editor application,and one of the features you want to implement is sentence reversal\n",
    "\n",
    "Task:Write a pythhon program that takes a sentence as input and returns the reversed sentence"
   ]
  },
  {
   "cell_type": "code",
   "execution_count": null,
   "id": "ce1fcf79-63b4-4d1a-bac5-f04e718b857a",
   "metadata": {},
   "outputs": [],
   "source": []
  },
  {
   "cell_type": "raw",
   "id": "64ecaa99-3bcf-4ff0-8d20-d5fb33e56791",
   "metadata": {},
   "source": [
    "Problem Statement:\n",
    "\n",
    "Scenario: You're working on a language-learning app,and you want to help users practice pronounciation.You need to analyze\n",
    "the text they input to count the numbers of vowels and consonants'\n",
    "\n",
    "Task:Write a python program that takes a sentence as input and prints the count of vowels and consonants"
   ]
  },
  {
   "cell_type": "code",
   "execution_count": 4,
   "id": "3789c10c-4382-40af-8cc4-17ad90d1b23c",
   "metadata": {},
   "outputs": [
    {
     "name": "stdin",
     "output_type": "stream",
     "text": [
      "Enter the sentence:  What a lovely view you have here! That's fantastic!\n"
     ]
    },
    {
     "ename": "TypeError",
     "evalue": "'int' object is not subscriptable",
     "output_type": "error",
     "traceback": [
      "\u001b[1;31m---------------------------------------------------------------------------\u001b[0m",
      "\u001b[1;31mTypeError\u001b[0m                                 Traceback (most recent call last)",
      "Cell \u001b[1;32mIn[4], line 9\u001b[0m\n\u001b[0;32m      7\u001b[0m             vowels[char] \u001b[38;5;241m+\u001b[39m\u001b[38;5;241m=\u001b[39m \u001b[38;5;241m1\u001b[39m\n\u001b[0;32m      8\u001b[0m         \u001b[38;5;28;01melse\u001b[39;00m:\n\u001b[1;32m----> 9\u001b[0m             \u001b[43mconsonants\u001b[49m\u001b[43m[\u001b[49m\u001b[43mchar\u001b[49m\u001b[43m]\u001b[49m\u001b[38;5;241m+\u001b[39m\u001b[38;5;241m=\u001b[39m\u001b[38;5;241m1\u001b[39m\n\u001b[0;32m     10\u001b[0m \u001b[38;5;28mprint\u001b[39m(\u001b[38;5;124m\"\u001b[39m\u001b[38;5;130;01m\\n\u001b[39;00m\u001b[38;5;124mVowels in sentence are:\u001b[39m\u001b[38;5;124m\"\u001b[39m)\n\u001b[0;32m     11\u001b[0m \u001b[38;5;28;01mfor\u001b[39;00m vowel, num \u001b[38;5;129;01min\u001b[39;00m vowels\u001b[38;5;241m.\u001b[39mitems():\n",
      "\u001b[1;31mTypeError\u001b[0m: 'int' object is not subscriptable"
     ]
    }
   ],
   "source": [
    "vowels={'a':0,'e':0,'i':0,'o':0,'u':0}\n",
    "consonants=0\n",
    "n=input(\"Enter the sentence: \").lower()\n",
    "for char in n:\n",
    "    if char.isalpha():\n",
    "        if char in vowels:\n",
    "            vowels[char] += 1\n",
    "        else:\n",
    "            consonants[char]+=1\n",
    "print(\"\\nVowels in sentence are:\")\n",
    "for vowel, num in vowels.items():\n",
    "    print(f\"{vowel.upper()}: {num}\")\n",
    "print(\"Vowels:\",vowels)\n",
    "print(\"Consonants:\",consonants)"
   ]
  },
  {
   "cell_type": "code",
   "execution_count": null,
   "id": "2ca70a5b-f4cb-4e0c-8ccc-d3af67128b63",
   "metadata": {},
   "outputs": [],
   "source": []
  }
 ],
 "metadata": {
  "kernelspec": {
   "display_name": "Python 3 (ipykernel)",
   "language": "python",
   "name": "python3"
  },
  "language_info": {
   "codemirror_mode": {
    "name": "ipython",
    "version": 3
   },
   "file_extension": ".py",
   "mimetype": "text/x-python",
   "name": "python",
   "nbconvert_exporter": "python",
   "pygments_lexer": "ipython3",
   "version": "3.12.5"
  }
 },
 "nbformat": 4,
 "nbformat_minor": 5
}
