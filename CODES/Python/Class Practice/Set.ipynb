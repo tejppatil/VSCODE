{
 "cells": [
  {
   "cell_type": "code",
   "execution_count": 1,
   "id": "d72cd54d-8eaf-4b41-a5d9-0584ad6b5c3d",
   "metadata": {},
   "outputs": [
    {
     "name": "stdout",
     "output_type": "stream",
     "text": [
      "Set created using curly braces: {50, 20, 40, 10, 30}\n",
      "Set created using set() constructor: {5, 6, 7, 8, 9}\n"
     ]
    }
   ],
   "source": [
    "#creating a sety using curly {} braces\n",
    "my_set = {10, 20, 30, 40, 50}\n",
    "print(\"Set created using curly braces:\", my_set)\n",
    "another_set = set([5,6,7,8,9])\n",
    "print(\"Set created using set() constructor:\",another_set)"
   ]
  },
  {
   "cell_type": "code",
   "execution_count": 10,
   "id": "21b1af6a-1259-4524-bd36-8c69f49e7936",
   "metadata": {},
   "outputs": [
    {
     "name": "stdout",
     "output_type": "stream",
     "text": [
      "After adding element :  {50, 20, 40, 9, 10, 30}\n",
      "After removing element :  {50, 20, 40, 10, 30}\n"
     ]
    }
   ],
   "source": [
    "# Adding element to set\n",
    "my_set.add(9)\n",
    "print(\"After adding element : \", my_set)\n",
    "# Removing element from set\n",
    "my_set.remove(9)\n",
    "print(\"After removing element : \", my_set)"
   ]
  },
  {
   "cell_type": "code",
   "execution_count": 27,
   "id": "2f44dca0-ecdf-4674-b80b-c7e8f2a0a941",
   "metadata": {},
   "outputs": [
    {
     "name": "stdout",
     "output_type": "stream",
     "text": [
      "('apple', 'banana', 'cherry')\n"
     ]
    }
   ],
   "source": [
    "#creating a set\n",
    "fruits = (\"apple\",\"banana\",\"cherry\")\n",
    "print(fruits)"
   ]
  },
  {
   "cell_type": "code",
   "execution_count": 28,
   "id": "0b61367e-761f-4a5e-8a05-c4981e05d6f4",
   "metadata": {},
   "outputs": [
    {
     "ename": "AttributeError",
     "evalue": "'tuple' object has no attribute 'add'",
     "output_type": "error",
     "traceback": [
      "\u001b[1;31m---------------------------------------------------------------------------\u001b[0m",
      "\u001b[1;31mAttributeError\u001b[0m                            Traceback (most recent call last)",
      "Cell \u001b[1;32mIn[28], line 2\u001b[0m\n\u001b[0;32m      1\u001b[0m \u001b[38;5;66;03m#Adding an element in a set\u001b[39;00m\n\u001b[1;32m----> 2\u001b[0m \u001b[43mfruits\u001b[49m\u001b[38;5;241;43m.\u001b[39;49m\u001b[43madd\u001b[49m(\u001b[38;5;124m\"\u001b[39m\u001b[38;5;124morange\u001b[39m\u001b[38;5;124m\"\u001b[39m)\n\u001b[0;32m      3\u001b[0m \u001b[38;5;28mprint\u001b[39m(fruits)\n\u001b[0;32m      4\u001b[0m fruits\u001b[38;5;241m.\u001b[39mremove(\u001b[38;5;124m\"\u001b[39m\u001b[38;5;124mbanana\u001b[39m\u001b[38;5;124m\"\u001b[39m)\n",
      "\u001b[1;31mAttributeError\u001b[0m: 'tuple' object has no attribute 'add'"
     ]
    }
   ],
   "source": [
    "#Adding an element in a set\n",
    "fruits.add(\"orange\")\n",
    "print(fruits)\n",
    "fruits.remove(\"banana\")\n",
    "print(fruits)"
   ]
  },
  {
   "cell_type": "code",
   "execution_count": 14,
   "id": "29c39346-0e60-4490-ba45-1bc47b1f0e8e",
   "metadata": {},
   "outputs": [
    {
     "name": "stdout",
     "output_type": "stream",
     "text": [
      "True\n",
      "True\n"
     ]
    }
   ],
   "source": [
    "# checking if element is in set\n",
    "print(\"apple\" in fruits)\n",
    "print(\"banana\" in fruits)"
   ]
  },
  {
   "cell_type": "code",
   "execution_count": 3,
   "id": "7849f7ac-5486-4df9-a17d-3acce61f1cc9",
   "metadata": {},
   "outputs": [
    {
     "name": "stdout",
     "output_type": "stream",
     "text": [
      "Is 2 present in my_set? False\n",
      "Is 7 present in my_set? False\n",
      "Length of my_set: 5\n"
     ]
    }
   ],
   "source": [
    "#checking membership in a set\n",
    "print(\"Is 2 present in my_set?\",2 in my_set)\n",
    "print(\"Is 7 present in my_set?\",7 in my_set)\n",
    "#lenght of a set\n",
    "print(\"Length of my_set:\",len(my_set))"
   ]
  },
  {
   "cell_type": "code",
   "execution_count": 4,
   "id": "839fcc88-2b30-4f18-bada-e53fbfdbe38d",
   "metadata": {},
   "outputs": [
    {
     "name": "stdout",
     "output_type": "stream",
     "text": [
      "Iterating over my_set\n",
      "50\n",
      "20\n",
      "40\n",
      "10\n",
      "30\n"
     ]
    }
   ],
   "source": [
    "#iterating over a set\n",
    "print(\"Iterating over my_set\")\n",
    "for element in my_set:\n",
    "    print(element)"
   ]
  },
  {
   "cell_type": "code",
   "execution_count": 6,
   "id": "0e06dc6c-e866-4860-87f8-fa3ef1181aa6",
   "metadata": {},
   "outputs": [
    {
     "name": "stdout",
     "output_type": "stream",
     "text": [
      "Frozen_set: frozenset({1, 2, 3, 4, 5})\n"
     ]
    }
   ],
   "source": [
    "#creating a frozenset\n",
    "frozen_set=frozenset([1,2,3,4,5])\n",
    "print(\"Frozen_set:\",frozen_set)"
   ]
  },
  {
   "cell_type": "code",
   "execution_count": 18,
   "id": "0958e04c-d442-4adb-98f9-aab3813159f9",
   "metadata": {},
   "outputs": [
    {
     "name": "stdout",
     "output_type": "stream",
     "text": [
      "{'apple', 'orange', 'lime', 'lemon', 'banana', 'cherry'}\n",
      "{'banana'}\n",
      "{'apple', 'cherry'}\n",
      "{'apple', 'orange', 'lime', 'lemon', 'cherry'}\n"
     ]
    }
   ],
   "source": [
    "# creating sets\n",
    "fruits = {\"apple\", \"banana\", \"cherry\"}\n",
    "citrus = {\"orange\", \"lemon\", \"lime\", \"banana\"}\n",
    "# union of two sets\n",
    "print(fruits.union(citrus))\n",
    "# intersection \n",
    "print(fruits.intersection(citrus))\n",
    "# difference\n",
    "print(fruits.difference(citrus))\n",
    "# symmetric diffference\n",
    "print(fruits.symmetric_difference(citrus))"
   ]
  },
  {
   "cell_type": "code",
   "execution_count": 29,
   "id": "fcc003ac-11c0-4e9c-a4ca-e6c200403121",
   "metadata": {},
   "outputs": [
    {
     "name": "stdout",
     "output_type": "stream",
     "text": [
      "{1, 2, 3, 4, 5, 6}\n"
     ]
    }
   ],
   "source": [
    "set1 = {1,2,3}\n",
    "set2 = {4,5,6}\n",
    "print(set1.union(set2))"
   ]
  },
  {
   "cell_type": "code",
   "execution_count": 30,
   "id": "b70d3779-f4bb-47b2-9db0-801f6a6afbfa",
   "metadata": {},
   "outputs": [
    {
     "name": "stdout",
     "output_type": "stream",
     "text": [
      "is set1 subset of set2?  False\n",
      "is set1 superset of set2?  False\n"
     ]
    }
   ],
   "source": [
    "print(\"is set1 subset of set2? \", set1.issubset(set2))\n",
    "print(\"is set1 superset of set2? \", set1.issuperset(set2))"
   ]
  },
  {
   "cell_type": "code",
   "execution_count": null,
   "id": "afc1b630-abd8-48cf-8154-0da5aede683f",
   "metadata": {},
   "outputs": [],
   "source": []
  }
 ],
 "metadata": {
  "kernelspec": {
   "display_name": "Python 3 (ipykernel)",
   "language": "python",
   "name": "python3"
  },
  "language_info": {
   "codemirror_mode": {
    "name": "ipython",
    "version": 3
   },
   "file_extension": ".py",
   "mimetype": "text/x-python",
   "name": "python",
   "nbconvert_exporter": "python",
   "pygments_lexer": "ipython3",
   "version": "3.12.5"
  }
 },
 "nbformat": 4,
 "nbformat_minor": 5
}
