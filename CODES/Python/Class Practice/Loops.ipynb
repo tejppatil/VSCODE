{
 "cells": [
  {
   "cell_type": "code",
   "execution_count": 1,
   "id": "79909394-cac3-46c4-aa68-542b13cec6a2",
   "metadata": {},
   "outputs": [
    {
     "name": "stdout",
     "output_type": "stream",
     "text": [
      "0\n",
      "1\n",
      "2\n",
      "3\n",
      "4\n",
      "5\n"
     ]
    }
   ],
   "source": [
    "x=range(6)\n",
    "for i in x:\n",
    "    print(i)"
   ]
  },
  {
   "cell_type": "code",
   "execution_count": 2,
   "id": "1a9cd3f9-54a6-426f-8b5d-e122aab12e8b",
   "metadata": {},
   "outputs": [
    {
     "name": "stdout",
     "output_type": "stream",
     "text": [
      "3\n",
      "4\n",
      "5\n"
     ]
    }
   ],
   "source": [
    "x=range(3,6)\n",
    "for n in x:\n",
    "    print(n)"
   ]
  },
  {
   "cell_type": "code",
   "execution_count": 3,
   "id": "9b062617-35d0-44c4-a0fc-7c1b3074cb1e",
   "metadata": {},
   "outputs": [
    {
     "name": "stdout",
     "output_type": "stream",
     "text": [
      "3\n",
      "5\n",
      "7\n",
      "9\n",
      "11\n",
      "13\n",
      "15\n",
      "17\n",
      "19\n"
     ]
    }
   ],
   "source": [
    "x=range(3,20,2)\n",
    "for i in x:\n",
    "    print(i)"
   ]
  },
  {
   "cell_type": "code",
   "execution_count": 4,
   "id": "0fbe0695-3438-42de-9491-9f5d6d4032c2",
   "metadata": {},
   "outputs": [
    {
     "name": "stdout",
     "output_type": "stream",
     "text": [
      "apple\n",
      "banana\n",
      "cherry\n"
     ]
    }
   ],
   "source": [
    "my_list=['apple','banana','cherry']\n",
    "for x in my_list:\n",
    "    print(x)"
   ]
  },
  {
   "cell_type": "code",
   "execution_count": 7,
   "id": "75d7d74c-c237-46e7-974f-02adb9e814e6",
   "metadata": {},
   "outputs": [
    {
     "name": "stdout",
     "output_type": "stream",
     "text": [
      "Index: 0,Fruit:apple\n",
      "Index: 1,Fruit:banana\n",
      "Index: 2,Fruit:cherry\n",
      "Index: 3,Fruit:date\n"
     ]
    }
   ],
   "source": [
    "fruits=['apple','banana','cherry','date']\n",
    "for index,fruit in enumerate(fruits):\n",
    "    print(f\"Index: {index},Fruit:{fruit}\")"
   ]
  },
  {
   "cell_type": "code",
   "execution_count": 8,
   "id": "015ac351-fbe4-45e9-8053-8e556d388aad",
   "metadata": {},
   "outputs": [
    {
     "name": "stdout",
     "output_type": "stream",
     "text": [
      "1 1\n",
      "1 2\n",
      "1 3\n",
      "2 1\n",
      "2 2\n",
      "2 3\n",
      "3 1\n",
      "3 2\n",
      "3 3\n"
     ]
    }
   ],
   "source": [
    "#nested froloop\n",
    "for i in range(1,4):\n",
    "    for j in range(1,4):\n",
    "        print(i,j)"
   ]
  },
  {
   "cell_type": "code",
   "execution_count": 10,
   "id": "bb017c66-89d5-455c-b2ce-5f284cf0c07b",
   "metadata": {},
   "outputs": [
    {
     "name": "stdout",
     "output_type": "stream",
     "text": [
      "name: John\n",
      "age: 30\n",
      "city: New York\n"
     ]
    }
   ],
   "source": [
    "#looping through a discionary\n",
    "person={\"name\":\"John\",\"age\":30,\"city\":\"New York\"}\n",
    "for key,value in person.items():\n",
    "    print(f\"{key}: {value}\")"
   ]
  },
  {
   "cell_type": "code",
   "execution_count": 12,
   "id": "aca5d235-ef99-4d5f-87b5-9e3127034bdd",
   "metadata": {},
   "outputs": [
    {
     "name": "stdout",
     "output_type": "stream",
     "text": [
      "RRU Fam\n",
      "RRU Fam\n",
      "RRU Fam\n"
     ]
    }
   ],
   "source": [
    "#while loo\n",
    "count=0\n",
    "while(count<3):\n",
    "    count+=1\n",
    "    print(\"RRU Fam\")"
   ]
  },
  {
   "cell_type": "code",
   "execution_count": 13,
   "id": "132f786c-209f-4d21-863e-6f9147a22d1e",
   "metadata": {},
   "outputs": [
    {
     "name": "stdout",
     "output_type": "stream",
     "text": [
      "1\n",
      "2\n",
      "3\n"
     ]
    }
   ],
   "source": [
    "i =1\n",
    "while i<6:\n",
    "    print(i)\n",
    "    if i==3:\n",
    "        break\n",
    "    i+=1"
   ]
  },
  {
   "cell_type": "code",
   "execution_count": 14,
   "id": "f3df7e06-62e3-4bb2-9df6-0b4a67bdfbb6",
   "metadata": {},
   "outputs": [
    {
     "name": "stdout",
     "output_type": "stream",
     "text": [
      "1\n",
      "2\n",
      "4\n",
      "5\n",
      "6\n"
     ]
    }
   ],
   "source": [
    "i=0\n",
    "while i<6:\n",
    "    i+=1\n",
    "    if i==3:\n",
    "        continue\n",
    "    print(i)"
   ]
  },
  {
   "cell_type": "code",
   "execution_count": 15,
   "id": "31623bac-7964-428b-b972-75fbcf24dd52",
   "metadata": {},
   "outputs": [
    {
     "name": "stdout",
     "output_type": "stream",
     "text": [
      "Loop completed. Sum = 15\n"
     ]
    }
   ],
   "source": [
    "num=1\n",
    "sum_result=0\n",
    "#while loop to calculate the sum\n",
    "while num<=5:\n",
    "    sum_result+=num\n",
    "    num+=1\n",
    "else:\n",
    "    print(\"Loop completed. Sum =\",sum_result)"
   ]
  },
  {
   "cell_type": "code",
   "execution_count": null,
   "id": "0de038ad-9397-4a3c-95d1-056ee051c9af",
   "metadata": {},
   "outputs": [],
   "source": [
    "i=0\n",
    "a='Hello students'\n",
    "while i<len(a):\n",
    "    if a[i] == 'e' or a[i] == 's':\n",
    "        i+=1"
   ]
  },
  {
   "cell_type": "code",
   "execution_count": null,
   "id": "57042c44-0e1d-4152-a2b8-7b9b7ecd736f",
   "metadata": {},
   "outputs": [],
   "source": []
  }
 ],
 "metadata": {
  "kernelspec": {
   "display_name": "Python 3 (ipykernel)",
   "language": "python",
   "name": "python3"
  },
  "language_info": {
   "codemirror_mode": {
    "name": "ipython",
    "version": 3
   },
   "file_extension": ".py",
   "mimetype": "text/x-python",
   "name": "python",
   "nbconvert_exporter": "python",
   "pygments_lexer": "ipython3",
   "version": "3.12.5"
  }
 },
 "nbformat": 4,
 "nbformat_minor": 5
}
