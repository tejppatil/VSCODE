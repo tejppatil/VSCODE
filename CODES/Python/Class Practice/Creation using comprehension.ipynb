{
 "cells": [
  {
   "cell_type": "raw",
   "id": "f2f0d290-b360-4a60-b453-bcd421072cfb",
   "metadata": {},
   "source": [
    "List Creation:\n",
    "\n",
    "Squares of Numbers:\n",
    "Create a list containing the squares of numbers from 1 to 10"
   ]
  },
  {
   "cell_type": "code",
   "execution_count": 4,
   "id": "cea8e06e-55b5-4286-a0c2-446adff27931",
   "metadata": {
    "scrolled": true
   },
   "outputs": [
    {
     "name": "stdout",
     "output_type": "stream",
     "text": [
      "Squares of numbers: [1, 4, 9, 16, 25, 36, 49, 64, 81, 100]\n"
     ]
    }
   ],
   "source": [
    "squares = [x ** 2 for x in range(1, 11)]\n",
    "print(\"Squares of numbers:\", squares)"
   ]
  },
  {
   "cell_type": "code",
   "execution_count": 2,
   "id": "c15d66eb-888e-4930-8b1d-c84ee7d56845",
   "metadata": {},
   "outputs": [
    {
     "name": "stdout",
     "output_type": "stream",
     "text": [
      "Even numbers: [2, 4, 6, 8, 10, 12, 14, 16, 18, 20]\n"
     ]
    }
   ],
   "source": [
    "even_numbers = [x for x in range(1, 21) if x % 2 == 0]\n",
    "print(\"Even numbers:\", even_numbers)"
   ]
  },
  {
   "cell_type": "raw",
   "id": "23c39f20-2652-409d-bdb1-9255d670334d",
   "metadata": {},
   "source": [
    "First Letter Uppercase\n",
    "create a list containing the first letter of each word in a given with the first letter capitaliazed"
   ]
  },
  {
   "cell_type": "code",
   "execution_count": 3,
   "id": "314cb44d-e81c-480a-94c8-a1cb2963d548",
   "metadata": {},
   "outputs": [
    {
     "name": "stdout",
     "output_type": "stream",
     "text": [
      "First letters capitalized: ['H', 'W', 'H', 'A', 'Y']\n"
     ]
    }
   ],
   "source": [
    "sentence = \"hello world, how are you?\"\n",
    "first_letters = [word[0].upper() for word in sentence.split()]\n",
    "print(\"First letters capitalized:\", first_letters)"
   ]
  },
  {
   "cell_type": "raw",
   "id": "0c401972-06e7-47dd-9f3e-f251e1c713f0",
   "metadata": {},
   "source": [
    "Square Roots:\n",
    "reate a dictionary where keys are numbers from 1 to 5 and values are their square roots"
   ]
  },
  {
   "cell_type": "code",
   "execution_count": 5,
   "id": "9d02fc73-9886-4dce-8b3e-37a63ce4f830",
   "metadata": {},
   "outputs": [
    {
     "name": "stdout",
     "output_type": "stream",
     "text": [
      "Square roots: {1: 1.0, 2: 1.4142135623730951, 3: 1.7320508075688772, 4: 2.0, 5: 2.23606797749979}\n"
     ]
    }
   ],
   "source": [
    "import math\n",
    "\n",
    "square_roots = {x: math.sqrt(x) for x in range(1, 6)}\n",
    "print(\"Square roots:\", square_roots)"
   ]
  },
  {
   "cell_type": "raw",
   "id": "dc52b24e-5c6e-462f-bab5-f0d31e2d6d2d",
   "metadata": {},
   "source": [
    "Word Lengths:\n",
    "Create a dictionary where keys are words from a list and values are their lengths."
   ]
  },
  {
   "cell_type": "code",
   "execution_count": 6,
   "id": "e033ccc2-4334-4c6e-8b33-b767aa13a9cd",
   "metadata": {},
   "outputs": [
    {
     "name": "stdout",
     "output_type": "stream",
     "text": [
      "Word lengths: {'apple': 5, 'banana': 6, 'orange': 6, 'kiwi': 4}\n"
     ]
    }
   ],
   "source": [
    "words = [\"apple\", \"banana\", \"orange\", \"kiwi\"]\n",
    "word_lengths = {word: len(word) for word in words}\n",
    "print(\"Word lengths:\", word_lengths)"
   ]
  },
  {
   "cell_type": "raw",
   "id": "cc8a81ea-904e-491b-9a18-fcc885b84f2b",
   "metadata": {},
   "source": [
    "Character Frequency:\n",
    "Create a dictionary where keys are characters from a string and values are their frequencies"
   ]
  },
  {
   "cell_type": "code",
   "execution_count": 8,
   "id": "8aadd15e-7d39-49c1-afe1-4d4fb24220fb",
   "metadata": {},
   "outputs": [
    {
     "name": "stdout",
     "output_type": "stream",
     "text": [
      "Character frequencies: {'r': 1, 'y': 1, 'J': 1, ' ': 2, 'R': 1, 'm': 1, 'S': 1, 'a': 2, 'e': 2, 'h': 1}\n"
     ]
    }
   ],
   "source": [
    "text = \"Jay Shree Ram\"\n",
    "char_freq = {char: text.count(char) for char in set(text)}\n",
    "print(\"Character frequencies:\", char_freq)"
   ]
  },
  {
   "cell_type": "raw",
   "id": "562b16e8-67af-468c-bd38-a5178755c748",
   "metadata": {},
   "source": [
    "String Creation:\n",
    "Joining Words:\n",
    "Create a string by joining the words from a list with a comma separator."
   ]
  },
  {
   "cell_type": "code",
   "execution_count": 11,
   "id": "0f65b790-da40-460f-bcb9-636b30d941e2",
   "metadata": {},
   "outputs": [
    {
     "name": "stdout",
     "output_type": "stream",
     "text": [
      "apple banana orange\n"
     ]
    }
   ],
   "source": [
    "words=['apple','banana','orange']\n",
    "join_word=\" \".join(words)\n",
    "print(join_word)"
   ]
  },
  {
   "cell_type": "raw",
   "id": "9b0f4f9d-a886-4c9c-b7d9-b57fb9ad9aec",
   "metadata": {},
   "source": [
    "Reversed String:\n",
    "Create a string containing the characters of another string in reversed order."
   ]
  },
  {
   "cell_type": "code",
   "execution_count": 27,
   "id": "39ecfaba-0960-4d93-b293-d2076ebec09b",
   "metadata": {},
   "outputs": [
    {
     "name": "stdout",
     "output_type": "stream",
     "text": [
      "Reversed string: dlrow olleh\n"
     ]
    }
   ],
   "source": [
    "original_string = \"hello world\"\n",
    "listy=original_string[::-1]\n",
    "#reversed_string = ''.join([char for char in reversed(original_string)])\n",
    "print(\"Reversed string:\", listy)"
   ]
  },
  {
   "cell_type": "raw",
   "id": "98244285-60b7-4a3d-9cda-57cf2bb3aaf9",
   "metadata": {},
   "source": [
    "Vowels in Sentence:\n",
    "Create a string containing only the vowels from a given sentence."
   ]
  },
  {
   "cell_type": "code",
   "execution_count": 28,
   "id": "c2e1705d-18bf-4844-a464-7664fd6fad31",
   "metadata": {},
   "outputs": [
    {
     "name": "stdout",
     "output_type": "stream",
     "text": [
      "Vowels: eoooaeou\n"
     ]
    }
   ],
   "source": [
    "sentence = \"hello world, how are you?\"\n",
    "vowels = ''.join([char for char in sentence if char.lower() in 'aeiou'])\n",
    "print(\"Vowels:\", vowels)"
   ]
  },
  {
   "cell_type": "code",
   "execution_count": null,
   "id": "ef209434-56a6-4339-89bd-403c09cd3fbf",
   "metadata": {},
   "outputs": [],
   "source": []
  }
 ],
 "metadata": {
  "kernelspec": {
   "display_name": "Python 3 (ipykernel)",
   "language": "python",
   "name": "python3"
  },
  "language_info": {
   "codemirror_mode": {
    "name": "ipython",
    "version": 3
   },
   "file_extension": ".py",
   "mimetype": "text/x-python",
   "name": "python",
   "nbconvert_exporter": "python",
   "pygments_lexer": "ipython3",
   "version": "3.12.5"
  }
 },
 "nbformat": 4,
 "nbformat_minor": 5
}
