{
 "cells": [
  {
   "cell_type": "markdown",
   "id": "1ee76358-7b67-4910-a782-723880afb78f",
   "metadata": {},
   "source": [
    "You are a librarian and you have a list of books in your library. Each\n",
    "book is represented as a string. Your task is to write a Python program to find\n",
    "out how many books in the library have a titles longer than 25 characters."
   ]
  },
  {
   "cell_type": "code",
   "execution_count": 7,
   "id": "1ff488da-831e-4a80-aef5-2b2b8b849530",
   "metadata": {},
   "outputs": [
    {
     "name": "stdout",
     "output_type": "stream",
     "text": [
      "KYL: Know Your Library\n",
      "\n"
     ]
    },
    {
     "name": "stdin",
     "output_type": "stream",
     "text": [
      "Do you have any new books (write YES or NO only):  yes\n",
      "Enter the number of new books:  1\n",
      "Enter the name of book 1:  wertyhujbhvgfcdsewesdrfghjkmjkhgtfrdeswerdtfghjknmjhgytfrdew\n"
     ]
    },
    {
     "name": "stdout",
     "output_type": "stream",
     "text": [
      "\n",
      "Books with titles longer than 25 characters:\n",
      "How to Tame Your Inner Chaos\n",
      "JavaScript for the Brave and True\n",
      "Why Did the Chicken Cross the Road?\n",
      "When Life Gives You Lemons Paint Them Gold\n",
      "The Subtle Art of Not Giving Up\n",
      "The Subtle Art of Not Giving Up Easily\n",
      "A Million Little Problems and How to Solve Them\n",
      "wertyhujbhvgfcdsewesdrfghjkmjkhgtfrdeswerdtfghjknmjhgytfrdew\n",
      "\n",
      "The number of books with titles longer than 25 characters is: 8\n"
     ]
    }
   ],
   "source": [
    "count = 0\n",
    "print(\"KYL: Know Your Library\\n\")\n",
    "\n",
    "booklist = [\n",
    "    \"How to Tame Your Inner Chaos\",\n",
    "    \"JavaScript for the Brave and True\",\n",
    "    \"Why Did the Chicken Cross the Road?\",\n",
    "    \"The Art of Doing Nothing\",\n",
    "    \"When Life Gives You Lemons Paint Them Gold\",\n",
    "    \"Eat Code Sleep Repeat\",\n",
    "    \"The Subtle Art of Not Giving Up\",\n",
    "    \"Dancing with Algorithms\",\n",
    "    \"The Subtle Art of Not Giving Up Easily\",\n",
    "    \"A Million Little Problems and How to Solve Them\",\n",
    "]\n",
    "new = input(\"Do you have any new books (write YES or NO only): \")\n",
    "if new.lower() == \"yes\":\n",
    "    n = int(input(\"Enter the number of new books: \"))\n",
    "    for i in range(n):\n",
    "        new_book = input(f\"Enter the name of book {i + 1}: \")\n",
    "        booklist.append(new_book)\n",
    "elif new.lower() == \"no\":\n",
    "    print(f\"The total number of books you have is {len(booklist)}\")\n",
    "\n",
    "print(\"\\nBooks with titles longer than 25 characters:\")\n",
    "for book in booklist:\n",
    "    if len(book) > 25:\n",
    "        print(book)\n",
    "        count += 1\n",
    "\n",
    "print(f\"\\nThe number of books with titles longer than 25 characters is: {count}\")"
   ]
  },
  {
   "cell_type": "markdown",
   "id": "915cf761-06ec-4119-a9ca-a74ee33c1522",
   "metadata": {},
   "source": [
    "You are a sports coach and you have the heights of your players in centimeters. The heights are stored in a list. Your task is to write a Python program to calculate the average height and find out how many players are taller than the average."
   ]
  },
  {
   "cell_type": "code",
   "execution_count": 12,
   "id": "546bbd5d-e91e-4b5f-a06d-4bc5e5b742c9",
   "metadata": {},
   "outputs": [
    {
     "name": "stdout",
     "output_type": "stream",
     "text": [
      "Average height: 167.80 cm\n",
      "Number of players taller than the average: 6\n"
     ]
    }
   ],
   "source": [
    "heightlist=[161,165,171,168,169,153,172,166,176,177]\n",
    "total_height= sum(heightlist)\n",
    "num_players= len(heightlist)\n",
    "avg_height=total_height/num_players\n",
    "taller = 0\n",
    "for height in heightlist:\n",
    "    if height > avg_height:\n",
    "        taller += 1\n",
    "print(f\"Average height: {avg_height:.2f} cm\")\n",
    "print(f\"Number of players taller than the average: {taller}\")"
   ]
  },
  {
   "cell_type": "markdown",
   "id": "f6420088-2e99-4969-9401-8ddeb2c42b7f",
   "metadata": {},
   "source": [
    "You are a teacher and you have the scores of your students on a test.\n",
    "The scores are stored in a list. Your task is to write a Python program to find\n",
    "the median score. If the number of scores is even, the median is the average of\n",
    "the two middle scores."
   ]
  },
  {
   "cell_type": "code",
   "execution_count": 13,
   "id": "3a523673-3151-47fb-b37d-d9df4d7c7a57",
   "metadata": {},
   "outputs": [
    {
     "name": "stdout",
     "output_type": "stream",
     "text": [
      "Sorted Heights: [12, 15, 15, 16, 16, 17, 17, 17, 18, 19, 20, 22, 23, 24, 24, 25, 25, 26, 26, 28]\n",
      "Median height: 20\n"
     ]
    }
   ],
   "source": [
    "scorelist=[15,17,25,20,26,12,18,19,17,23,24,15,16,17,16,25,26,28,22,24]\n",
    "scorelist.sort()\n",
    "num_scores= len(scorelist)\n",
    "if n % 2 == 1: \n",
    "    median = scorelist[num_scores // 2]\n",
    "else:\n",
    "    middle1 = scorelist[num_scores // 2 - 1]\n",
    "    middle2 = scorelist[num_scores // 2]\n",
    "    median = (middle1 + middle2) / 2\n",
    "\n",
    "print(f\"Sorted Heights: {scorelist}\")\n",
    "print(f\"Median height: {median}\")"
   ]
  }
 ],
 "metadata": {
  "kernelspec": {
   "display_name": "Python 3 (ipykernel)",
   "language": "python",
   "name": "python3"
  },
  "language_info": {
   "codemirror_mode": {
    "name": "ipython",
    "version": 3
   },
   "file_extension": ".py",
   "mimetype": "text/x-python",
   "name": "python",
   "nbconvert_exporter": "python",
   "pygments_lexer": "ipython3",
   "version": "3.12.5"
  }
 },
 "nbformat": 4,
 "nbformat_minor": 5
}
