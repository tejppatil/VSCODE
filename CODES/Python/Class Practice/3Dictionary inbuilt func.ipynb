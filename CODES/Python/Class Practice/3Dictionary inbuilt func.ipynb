{
 "cells": [
  {
   "cell_type": "code",
   "execution_count": 1,
   "id": "eb481291-df5e-412f-8d7e-0807a0905cbc",
   "metadata": {},
   "outputs": [
    {
     "name": "stdout",
     "output_type": "stream",
     "text": [
      "{'Name': 'Ram', 'Age': '19', 'Country': 'India'}\n",
      "Ram\n",
      "None\n"
     ]
    }
   ],
   "source": [
    "#get() method\n",
    "d={'Name':'Ram','Age':'19','Country':'India'}\n",
    "print(d)\n",
    "print(d.get('Name'))\n",
    "print(d.get('Gender'))"
   ]
  },
  {
   "cell_type": "code",
   "execution_count": 2,
   "id": "2e45dcbb-3354-431a-b1ab-95a2bb352b76",
   "metadata": {},
   "outputs": [
    {
     "name": "stdout",
     "output_type": "stream",
     "text": [
      "dict_items([('Name', 'Ram'), ('Age', '19'), ('Country', 'India')])\n",
      "Age\n",
      "19\n"
     ]
    }
   ],
   "source": [
    "#items() method\n",
    "d={'Name':'Ram','Age':'19','Country':'India'}\n",
    "x=d.items()\n",
    "print(x)\n",
    "print(list(d.items())[1][0])\n",
    "print(list(d.items())[1][1])"
   ]
  },
  {
   "cell_type": "code",
   "execution_count": 3,
   "id": "10d1fe90-596a-40f0-9f4b-637dc228cb02",
   "metadata": {},
   "outputs": [
    {
     "name": "stdout",
     "output_type": "stream",
     "text": [
      "dict_keys(['Name', 'Age', 'Country'])\n"
     ]
    }
   ],
   "source": [
    "#keys()\n",
    "d={'Name':'Ram','Age':'19','Country':'India'}\n",
    "key_view=d.keys()\n",
    "print(key_view)"
   ]
  },
  {
   "cell_type": "code",
   "execution_count": 4,
   "id": "e2ae9f23-de41-4f90-954a-e5570319ff94",
   "metadata": {},
   "outputs": [
    {
     "name": "stdout",
     "output_type": "stream",
     "text": [
      "19\n",
      "{'Name': 'Ram', 'Country': 'India'}\n"
     ]
    }
   ],
   "source": [
    "#pop()\n",
    "d={'Name':'Ram','Age':'19','Country':'India'}\n",
    "removed_value=d.pop('Age')\n",
    "print(removed_value)\n",
    "print(d)"
   ]
  },
  {
   "cell_type": "code",
   "execution_count": 6,
   "id": "cb6c3c8c-346d-4f08-93a9-af2f299d0227",
   "metadata": {},
   "outputs": [
    {
     "name": "stdout",
     "output_type": "stream",
     "text": [
      "{'Name': 'Alice', 'Age': '26', 'Country': 'USA'}\n"
     ]
    }
   ],
   "source": [
    "#update()\n",
    "d1={'Name':'Alice','Age':'25'}\n",
    "d2={'Country':'USA','Age':'26'}\n",
    "d1.update(d2)\n",
    "print(d1)"
   ]
  },
  {
   "cell_type": "raw",
   "id": "49d9e199-fb2d-4fd3-87f7-dc7abda760fb",
   "metadata": {},
   "source": [
    "Problem 1: Word Frequency Counter\n",
    "\n",
    "You're working on a text analysis project and need to count the frequency of each word in a given paragraph.Write a\n",
    "python function count_word_frequency(paragraph) that takes a paragraph as input and returns a dictionary where\n",
    "keys are unique words and values are their respective frequencies"
   ]
  },
  {
   "cell_type": "code",
   "execution_count": 15,
   "id": "d8887131-a83b-41bc-a414-46247aecd7f9",
   "metadata": {},
   "outputs": [
    {
     "name": "stdin",
     "output_type": "stream",
     "text": [
      "Enter your text over here: Mango banana apple pear Banana grapes strawberry Apple pear mango banana Kiwi apple mango strawberry\n"
     ]
    },
    {
     "name": "stdout",
     "output_type": "stream",
     "text": [
      "mango : 3\n",
      "banana : 3\n",
      "apple : 3\n",
      "pear : 2\n",
      "grapes : 1\n",
      "strawberry : 2\n",
      "kiwi : 1\n"
     ]
    }
   ],
   "source": [
    "d = dict() \n",
    "n=input(\"Enter your text over here:\")\n",
    "n = n.strip() \n",
    "n = n.lower() \n",
    "words = n.split(' ') \n",
    "for word in words: \n",
    "    if word in d: \n",
    "        d[word] = d[word] + 1\n",
    "    else: \n",
    "        d[word] = 1            \n",
    "for key in list(d.keys()): \n",
    "    print(key, \":\", d[key]) "
   ]
  },
  {
   "cell_type": "raw",
   "id": "360c5dd7-da08-44d2-aa48-9fc7d9f4908b",
   "metadata": {},
   "source": [
    "Problem 2: Merge Dictionaries\n",
    "You're building a configuration management system and need to merge multiple dictionaries containing configuration settings into one. Write a Python function merge_dictionaries(*dicts) that takes any number of dictionaries as input and returns a single dictionary containing all key-value pairs from the input dictionaries."
   ]
  },
  {
   "cell_type": "code",
   "execution_count": null,
   "id": "9e008dd8-55a5-4f34-a1ae-4aaa57809e55",
   "metadata": {},
   "outputs": [],
   "source": []
  },
  {
   "cell_type": "raw",
   "id": "5d0ac5eb-a994-4680-8f58-939810e157ce",
   "metadata": {},
   "source": [
    "Problem 3:Dictionary Key Transformation\n",
    "You're working on a data processing pipeline and need to transform dictionary keys by converting them to lowercase\n",
    "Write a python function transform_keys_to_lowercase(input_dict) that takes a dictionary as input and returns a new dictionary with all the keys "
   ]
  },
  {
   "cell_type": "code",
   "execution_count": 19,
   "id": "bc3ebec7-d601-40e1-87a6-7b7282fb6b20",
   "metadata": {},
   "outputs": [
    {
     "ename": "NameError",
     "evalue": "name 'valur' is not defined",
     "output_type": "error",
     "traceback": [
      "\u001b[1;31m---------------------------------------------------------------------------\u001b[0m",
      "\u001b[1;31mNameError\u001b[0m                                 Traceback (most recent call last)",
      "Cell \u001b[1;32mIn[19], line 5\u001b[0m\n\u001b[0;32m      2\u001b[0m     \u001b[38;5;28;01mreturn\u001b[39;00m {key\u001b[38;5;241m.\u001b[39mlower(): valur \u001b[38;5;28;01mfor\u001b[39;00m key,value \u001b[38;5;129;01min\u001b[39;00m input_dict\u001b[38;5;241m.\u001b[39mitems()}\n\u001b[0;32m      4\u001b[0m input_dict\u001b[38;5;241m=\u001b[39m{\u001b[38;5;124m'\u001b[39m\u001b[38;5;124mName\u001b[39m\u001b[38;5;124m'\u001b[39m:\u001b[38;5;124m'\u001b[39m\u001b[38;5;124mRam\u001b[39m\u001b[38;5;124m'\u001b[39m,\u001b[38;5;124m'\u001b[39m\u001b[38;5;124mAge\u001b[39m\u001b[38;5;124m'\u001b[39m:\u001b[38;5;124m'\u001b[39m\u001b[38;5;124m19\u001b[39m\u001b[38;5;124m'\u001b[39m,\u001b[38;5;124m'\u001b[39m\u001b[38;5;124mCountry\u001b[39m\u001b[38;5;124m'\u001b[39m:\u001b[38;5;124m'\u001b[39m\u001b[38;5;124mIndia\u001b[39m\u001b[38;5;124m'\u001b[39m}\n\u001b[1;32m----> 5\u001b[0m transformed_dict\u001b[38;5;241m=\u001b[39m\u001b[43mtransform_keys_to_lowercase\u001b[49m\u001b[43m(\u001b[49m\u001b[43minput_dict\u001b[49m\u001b[43m)\u001b[49m\n\u001b[0;32m      6\u001b[0m \u001b[38;5;28mprint\u001b[39m(\u001b[38;5;124m'\u001b[39m\u001b[38;5;124mTransformed Dictionary:\u001b[39m\u001b[38;5;124m'\u001b[39m,transformed_dict)\n",
      "Cell \u001b[1;32mIn[19], line 2\u001b[0m, in \u001b[0;36mtransform_keys_to_lowercase\u001b[1;34m(input_dict)\u001b[0m\n\u001b[0;32m      1\u001b[0m \u001b[38;5;28;01mdef\u001b[39;00m\u001b[38;5;250m \u001b[39m\u001b[38;5;21mtransform_keys_to_lowercase\u001b[39m(input_dict):\n\u001b[1;32m----> 2\u001b[0m     \u001b[38;5;28;01mreturn\u001b[39;00m {key\u001b[38;5;241m.\u001b[39mlower(): \u001b[43mvalur\u001b[49m \u001b[38;5;28;01mfor\u001b[39;00m key,value \u001b[38;5;129;01min\u001b[39;00m input_dict\u001b[38;5;241m.\u001b[39mitems()}\n",
      "\u001b[1;31mNameError\u001b[0m: name 'valur' is not defined"
     ]
    }
   ],
   "source": [
    "def transform_keys_to_lowercase(input_dict):\n",
    "    return {key.lower(): valur for key,value in input_dict.items()}\n",
    "\n",
    "input_dict={'Name':'Ram','Age':'19','Country':'India'}\n",
    "transformed_dict =transform_keys_to_lowercase(input_dict)\n",
    "print('Transformed Dictionary:',transformed_dict)"
   ]
  },
  {
   "cell_type": "code",
   "execution_count": null,
   "id": "691cf0b3-3ffe-4cab-938e-bf66475ab95d",
   "metadata": {},
   "outputs": [],
   "source": []
  }
 ],
 "metadata": {
  "kernelspec": {
   "display_name": "Python 3 (ipykernel)",
   "language": "python",
   "name": "python3"
  },
  "language_info": {
   "codemirror_mode": {
    "name": "ipython",
    "version": 3
   },
   "file_extension": ".py",
   "mimetype": "text/x-python",
   "name": "python",
   "nbconvert_exporter": "python",
   "pygments_lexer": "ipython3",
   "version": "3.12.5"
  }
 },
 "nbformat": 4,
 "nbformat_minor": 5
}
