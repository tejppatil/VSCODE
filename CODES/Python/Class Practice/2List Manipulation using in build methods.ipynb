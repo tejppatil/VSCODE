{
 "cells": [
  {
   "cell_type": "code",
   "execution_count": 1,
   "id": "2b7035ff-f255-48a3-b231-edf98d839aa9",
   "metadata": {},
   "outputs": [
    {
     "name": "stdout",
     "output_type": "stream",
     "text": [
      "['Mathematics', 'Chemistry', 1997, 2000]\n",
      "['Mathematics', 'Chemistry', 1997, 2000, 20544]\n"
     ]
    }
   ],
   "source": [
    "#append()\n",
    "my_list = ['Mathematics','Chemistry',1997,2000]\n",
    "print(my_list)\n",
    "my_list.append(20544)\n",
    "print(my_list)"
   ]
  },
  {
   "cell_type": "code",
   "execution_count": 2,
   "id": "771ab9cf-0982-45d3-88b3-faf4485f3438",
   "metadata": {},
   "outputs": [
    {
     "name": "stdout",
     "output_type": "stream",
     "text": [
      "['Mathematics', 'Chemistry', 1997, 2000]\n",
      "['Mathematics', 'Chemistry', 10087, 1997, 2000, 456, 'a']\n"
     ]
    }
   ],
   "source": [
    "#insert()\n",
    "my_list=['Mathematics','Chemistry',1997,2000]\n",
    "print(my_list)\n",
    "my_list.insert(2, 10087)\n",
    "my_list.insert(10, 'a')\n",
    "my_list.insert(5, 456)\n",
    "print(my_list)"
   ]
  },
  {
   "cell_type": "code",
   "execution_count": 3,
   "id": "62e83d64-99f2-43ba-8962-05d6a686c97e",
   "metadata": {},
   "outputs": [
    {
     "name": "stdout",
     "output_type": "stream",
     "text": [
      "[1, 2, 3]\n",
      "[1, 2, 3, 2, 3, 4, 5]\n"
     ]
    }
   ],
   "source": [
    "#extend()\n",
    "list1=[1,2,3]\n",
    "list2=[2,3,4,5]\n",
    "print(list1)\n",
    "list1.extend(list2)\n",
    "print(list1)"
   ]
  },
  {
   "cell_type": "code",
   "execution_count": 4,
   "id": "466126f9-f68d-446e-baef-731ed62be5c5",
   "metadata": {},
   "outputs": [
    {
     "name": "stdout",
     "output_type": "stream",
     "text": [
      "['Mathematics', 'Chemistry', 10087, 1997, 2000, 10087]\n",
      "['Mathematics', 'Chemistry', 1997, 2000, 10087]\n"
     ]
    }
   ],
   "source": [
    "#remove()\n",
    "my_list=['Mathematics','Chemistry',10087,1997,2000,10087]\n",
    "print(my_list)\n",
    "my_list.remove(10087)\n",
    "print(my_list)"
   ]
  },
  {
   "cell_type": "code",
   "execution_count": 5,
   "id": "242fcb2c-ce85-4456-b38a-43561a66351d",
   "metadata": {},
   "outputs": [
    {
     "name": "stdout",
     "output_type": "stream",
     "text": [
      "['Mathematics', 'Chemistry', 1997, 2000]\n",
      "['Mathematics', 1997, 2000]\n",
      "Chemistry\n"
     ]
    }
   ],
   "source": [
    "#pop()\n",
    "my_list=['Mathematics','Chemistry',1997,2000]\n",
    "print(my_list)\n",
    "last_value=my_list.pop(1)\n",
    "print(my_list)\n",
    "print(last_value)"
   ]
  },
  {
   "cell_type": "code",
   "execution_count": 6,
   "id": "c396d685-0ce9-4984-8871-ee09c24d8f11",
   "metadata": {},
   "outputs": [
    {
     "name": "stdout",
     "output_type": "stream",
     "text": [
      "[1, 2, 3, 4, 5]\n",
      "[5, 4, 3, 2, 1]\n"
     ]
    }
   ],
   "source": [
    "#reverse()\n",
    "my_list=[1,2,3,4,5]\n",
    "print(my_list)\n",
    "my_list.reverse()\n",
    "print(my_list)"
   ]
  },
  {
   "cell_type": "code",
   "execution_count": 7,
   "id": "bd8f8531-e363-4da2-b0d6-4e4873b59878",
   "metadata": {},
   "outputs": [
    {
     "name": "stdout",
     "output_type": "stream",
     "text": [
      "[5, 2, 8, 1, 3]\n",
      "[1, 2, 3, 5, 8]\n"
     ]
    }
   ],
   "source": [
    "#sort()\n",
    "my_list=[5,2,8,1,3]\n",
    "print(my_list)\n",
    "my_list.sort() #ascending order\n",
    "print(my_list)"
   ]
  },
  {
   "cell_type": "code",
   "execution_count": 8,
   "id": "c8461c0c-563d-4c06-bc75-10b4f48afc1c",
   "metadata": {},
   "outputs": [
    {
     "name": "stdout",
     "output_type": "stream",
     "text": [
      "3\n",
      "0\n"
     ]
    }
   ],
   "source": [
    "#count()\n",
    "my_list=[1,2,2,3,2,4]\n",
    "count_of_twos=my_list.count(2)\n",
    "print(count_of_twos)\n",
    "count_of_six=my_list.count(6)\n",
    "print(count_of_six)"
   ]
  },
  {
   "cell_type": "raw",
   "id": "7b02b0f5-54c0-42f4-a959-97b4a2473ccd",
   "metadata": {},
   "source": [
    "Problem 1:List filtering and tranformation\n",
    "\n",
    "You're developing a data processing tool where you receive a list of mixed data types. you need to filter out non- numeric values and convert\n",
    "the remaining values to integers.write a python function filter_and_convert_to_integers(data) that takes a list of  mixed data types as input, filters out non-numeric values, and returns a new list with the remaining bvalues converted to integers"
   ]
  },
  {
   "cell_type": "code",
   "execution_count": 11,
   "id": "186b349d-a9e1-4294-a8ba-863c22c67c22",
   "metadata": {},
   "outputs": [
    {
     "name": "stdout",
     "output_type": "stream",
     "text": [
      "Filtered integers: [1, 2, 3, 5]\n"
     ]
    }
   ],
   "source": [
    "def filter_and_convert_to_integers(data):\n",
    "    return [int(x) for x in data if isinstance(x, (int, float))]\n",
    "\n",
    "data = [1, 2, 3, '4', '5', 'test', 5.6]\n",
    "filtered_integers = filter_and_convert_to_integers(data)\n",
    "print(\"Filtered integers:\", filtered_integers)"
   ]
  },
  {
   "cell_type": "raw",
   "id": "ac3e7183-1ca0-4b53-bdaf-e2d0f8f1394f",
   "metadata": {},
   "source": [
    "Problem 2:List Concatenation and sorting\n",
    "\n",
    "You're building a music playlist manager and need to merge two playlist into one sorted playlist. Write a Python function merge_and_sort_playlist(playlist1,playlist2) that takes two lists of songs as input, merges them into one list, and sorts the merge list alphabetically"
   ]
  },
  {
   "cell_type": "code",
   "execution_count": 10,
   "id": "49205239-8ba9-4df0-810e-a2ae206af164",
   "metadata": {},
   "outputs": [
    {
     "name": "stdout",
     "output_type": "stream",
     "text": [
      "Sorted Playlist ['c_play', 'd_play', 'j_play', 'p_play']\n"
     ]
    }
   ],
   "source": [
    "def merge_and_sort_playlist(playlist1,playlist2):\n",
    "    merged_list=playlist1+playlist2\n",
    "    return sorted(merged_list)\n",
    "playlist1=['p_play','j_play']\n",
    "playlist2=['c_play','d_play']\n",
    "sorted_playlist=merge_and_sort_playlist(playlist1, playlist2)\n",
    "print(\"Sorted Playlist\",sorted_playlist)"
   ]
  },
  {
   "cell_type": "raw",
   "id": "36af8d77-8cb7-48a0-bbea-fd303d149f54",
   "metadata": {},
   "source": [
    "Problem 3:List Filtering with Conditions \n",
    "\n",
    "You're working on a data analysis project and need to filter a list of numbers based on certain conditions. Write a Python function filter_numbers(numbers, condition) that takes a list of numbers and a condition function as input. It should return a new list containing only the numbers that satisfy the given condition "
   ]
  },
  {
   "cell_type": "code",
   "execution_count": 12,
   "id": "cf26101a-230e-4235-baf8-82974738a3b5",
   "metadata": {},
   "outputs": [
    {
     "name": "stdout",
     "output_type": "stream",
     "text": [
      "Positive Numbers:  [1, 2, 3]\n"
     ]
    }
   ],
   "source": [
    "def filter_numbers(numbers, condition):\n",
    "    return [num for num in numbers if condition(num)]\n",
    "def is_positive(num):\n",
    "    return num>0\n",
    "numbers=[-2,-1,0,1,2,3]\n",
    "positive_numbers=filter_numbers(numbers, is_positive)\n",
    "print(\"Positive Numbers: \",positive_numbers)"
   ]
  },
  {
   "cell_type": "raw",
   "id": "350855e1-0cd5-4a33-9666-155136c02a07",
   "metadata": {},
   "source": [
    "Problem 4:List Rotation\n",
    "\n",
    "You're implementing a game where players can rotate a list of numbers to the left by a given number of positions. \n",
    "Write a Python function rotate_list_left(numbers, positions) that takes a list of numbers and the number of positions to rotate as input, \n",
    "and returns a new list with the elements rotated to the left by the specified number of positions..."
   ]
  },
  {
   "cell_type": "code",
   "execution_count": null,
   "id": "ec7fb9c6-3982-4924-a034-9ad092d88604",
   "metadata": {},
   "outputs": [],
   "source": []
  }
 ],
 "metadata": {
  "kernelspec": {
   "display_name": "Python 3 (ipykernel)",
   "language": "python",
   "name": "python3"
  },
  "language_info": {
   "codemirror_mode": {
    "name": "ipython",
    "version": 3
   },
   "file_extension": ".py",
   "mimetype": "text/x-python",
   "name": "python",
   "nbconvert_exporter": "python",
   "pygments_lexer": "ipython3",
   "version": "3.12.5"
  }
 },
 "nbformat": 4,
 "nbformat_minor": 5
}
