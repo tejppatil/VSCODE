{
 "cells": [
  {
   "cell_type": "markdown",
   "id": "ff2098f9-fab4-481e-bc10-0559a24b7d54",
   "metadata": {},
   "source": [
    "1. If input = 5 \n",
    "print \n",
    "A A A A A \n",
    "B B B B \n",
    "C C C \n",
    "D D \n",
    "E\n"
   ]
  },
  {
   "cell_type": "code",
   "execution_count": 5,
   "id": "cf12e48d-08bd-46c1-9cc0-9e2a95ad39dc",
   "metadata": {},
   "outputs": [
    {
     "name": "stdin",
     "output_type": "stream",
     "text": [
      "Enter the Value:  5\n"
     ]
    },
    {
     "name": "stdout",
     "output_type": "stream",
     "text": [
      "A A A A A \n",
      "B B B B \n",
      "C C C \n",
      "D D \n",
      "E \n"
     ]
    }
   ],
   "source": [
    "n=int(input(\"Enter the Value: \"))\n",
    "ch = 'A' \n",
    "for i in range(n):\n",
    "    print((ch+' ')*(n-i))\n",
    "    ch=chr(ord(ch)+1)"
   ]
  },
  {
   "cell_type": "markdown",
   "id": "5022d999-ac9d-46f0-a2e0-89af0d856adf",
   "metadata": {},
   "source": [
    "2.  If input = 5 \n",
    "print \n",
    "1 \n",
    "2 3 \n",
    "4 5 6 \n",
    "7 8 9 10 \n",
    "11 12 13 14 15\n"
   ]
  },
  {
   "cell_type": "code",
   "execution_count": 6,
   "id": "761b9fe4-ca85-47cb-9df4-2ec6553e52df",
   "metadata": {},
   "outputs": [
    {
     "name": "stdin",
     "output_type": "stream",
     "text": [
      "Enter the Value:  5\n"
     ]
    },
    {
     "name": "stdout",
     "output_type": "stream",
     "text": [
      "1 \n",
      "2 3 \n",
      "4 5 6 \n",
      "7 8 9 10 \n",
      "11 12 13 14 15 \n"
     ]
    }
   ],
   "source": [
    "n=int(input(\"Enter the Value: \"))\n",
    "num=1\n",
    "for i in range(1, n+1):\n",
    "    for j in range(i):\n",
    "        print(num,end=\" \")\n",
    "        num=num+1\n",
    "    print()"
   ]
  },
  {
   "cell_type": "markdown",
   "id": "2371315e-04b8-4b35-b0bd-164a4e25121e",
   "metadata": {},
   "source": [
    "3. If input = 5 \n",
    "print \n",
    "* - * - *\n",
    "- * - * -\n",
    "* - * - *\n",
    "- * - * -\n",
    "* - * - *\n"
   ]
  },
  {
   "cell_type": "code",
   "execution_count": 10,
   "id": "139910c0-f4f2-4085-a0c3-9acc29fbd4ca",
   "metadata": {},
   "outputs": [
    {
     "name": "stdin",
     "output_type": "stream",
     "text": [
      "Enter the Value:  5\n"
     ]
    },
    {
     "name": "stdout",
     "output_type": "stream",
     "text": [
      "* _ * _ * \n",
      "_ * _ * _ \n",
      "* _ * _ * \n",
      "_ * _ * _ \n",
      "* _ * _ * \n"
     ]
    }
   ],
   "source": [
    "n=int(input(\"Enter the Value: \"))\n",
    "for i in range(n):\n",
    "    for j in range(n):\n",
    "        if (i+j) % 2 == 0:\n",
    "            print('*',end=' ')\n",
    "        else:\n",
    "            print('_',end=' ')\n",
    "    print()"
   ]
  },
  {
   "cell_type": "markdown",
   "id": "e7fd2cc2-0601-4b02-b36a-26c81ee279ab",
   "metadata": {},
   "source": [
    "4.   If input = 5 \n",
    "print \n",
    "    *\n",
    "   * *\n",
    "  * * *\n",
    " * * * *\n",
    "* * * * *\n"
   ]
  },
  {
   "cell_type": "code",
   "execution_count": 14,
   "id": "2ffdfd73-0618-4a6b-a94b-cfcc553a8965",
   "metadata": {},
   "outputs": [
    {
     "name": "stdin",
     "output_type": "stream",
     "text": [
      "Enter the Value:  5\n"
     ]
    },
    {
     "name": "stdout",
     "output_type": "stream",
     "text": [
      "    * \n",
      "   * * \n",
      "  * * * \n",
      " * * * * \n",
      "* * * * * \n"
     ]
    }
   ],
   "source": [
    "n=int(input(\"Enter the Value: \"))\n",
    "for i in range(1,n+1):\n",
    "    print(\" \"*(n-i)+\"* \"*i)"
   ]
  },
  {
   "cell_type": "markdown",
   "id": "92f4160f-0c8c-440d-be84-83691baaa7ac",
   "metadata": {},
   "source": [
    "5.  If input = 5 \n",
    "print \n",
    "*\n",
    "* *\n",
    "*   *\n",
    "*      *\n",
    "* * * * *\n"
   ]
  },
  {
   "cell_type": "code",
   "execution_count": 16,
   "id": "58f5d62f-a476-4f3b-9b92-78ef5e152778",
   "metadata": {},
   "outputs": [
    {
     "name": "stdin",
     "output_type": "stream",
     "text": [
      "Enter the Value:  5\n"
     ]
    },
    {
     "name": "stdout",
     "output_type": "stream",
     "text": [
      "* \n",
      "* * \n",
      "*   * \n",
      "*     * \n",
      "* * * * * \n"
     ]
    }
   ],
   "source": [
    "n=int(input(\"Enter the Value: \"))\n",
    "for i in range(1,n+1):\n",
    "    for j in range(1,i+1):\n",
    "        if j==1 or j==i or i==n:\n",
    "            print('*',end=' ')\n",
    "        else:\n",
    "            print(' ',end=' ')\n",
    "    print() "
   ]
  },
  {
   "cell_type": "markdown",
   "id": "f83f0d94-e65b-4f4a-b03b-82a5bb04cfd4",
   "metadata": {},
   "source": [
    "6. If input = 5 \n",
    "print \n",
    "* * * * *\n",
    "          *\n",
    "* * * * *\n",
    "          *\n",
    "* * * * * \n"
   ]
  },
  {
   "cell_type": "code",
   "execution_count": 23,
   "id": "38bcd795-f5cd-47cc-a0bb-41bb0a3b0e72",
   "metadata": {},
   "outputs": [
    {
     "name": "stdin",
     "output_type": "stream",
     "text": [
      "Enter the Value:  5\n"
     ]
    },
    {
     "name": "stdout",
     "output_type": "stream",
     "text": [
      "* * * * * \n",
      "          *\n",
      "* * * * * \n",
      "          *\n",
      "* * * * * \n"
     ]
    }
   ],
   "source": [
    "n=int(input(\"Enter the Value: \"))\n",
    "for i in range(1,n+1):\n",
    "        if i%2==0:\n",
    "            print(n*\"  \"+\"*\")\n",
    "        else:\n",
    "            print(n*\"* \")"
   ]
  },
  {
   "cell_type": "markdown",
   "id": "d1950e0e-027c-4da6-aa3d-295b6678adc6",
   "metadata": {},
   "source": [
    "7.  If input = 5 \n",
    "print \n",
    "1\n",
    "1 2\n",
    "1 2 3\n",
    "1 2 3 4\n",
    "1 2 3 4 5"
   ]
  },
  {
   "cell_type": "code",
   "execution_count": 29,
   "id": "010d75f5-4753-460a-b0ed-7c04da12197c",
   "metadata": {},
   "outputs": [
    {
     "name": "stdin",
     "output_type": "stream",
     "text": [
      "Enter the Value:  5\n"
     ]
    },
    {
     "name": "stdout",
     "output_type": "stream",
     "text": [
      "1 \n",
      "1 2 \n",
      "1 2 3 \n",
      "1 2 3 4 \n",
      "1 2 3 4 5 \n"
     ]
    }
   ],
   "source": [
    "n=int(input(\"Enter the Value: \"))\n",
    "for i in range(1, n+1):\n",
    "    num=1\n",
    "    for j in range(1,i+1):\n",
    "        print(num,end=\" \")\n",
    "        num=num+1    \n",
    "    print()"
   ]
  },
  {
   "cell_type": "code",
   "execution_count": null,
   "id": "7eb5f8a7-ccf8-4340-a537-b6eedc5fa4c3",
   "metadata": {},
   "outputs": [],
   "source": []
  }
 ],
 "metadata": {
  "kernelspec": {
   "display_name": "Python 3 (ipykernel)",
   "language": "python",
   "name": "python3"
  },
  "language_info": {
   "codemirror_mode": {
    "name": "ipython",
    "version": 3
   },
   "file_extension": ".py",
   "mimetype": "text/x-python",
   "name": "python",
   "nbconvert_exporter": "python",
   "pygments_lexer": "ipython3",
   "version": "3.12.5"
  }
 },
 "nbformat": 4,
 "nbformat_minor": 5
}
