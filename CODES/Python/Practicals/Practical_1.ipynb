{
 "cells": [
  {
   "cell_type": "markdown",
   "id": "b5852fc3-eb79-4549-900b-8de17929332f",
   "metadata": {},
   "source": [
    "Problem Statement: Imagine you are developing a finance application that calculates compound interest for investments. Your task is to create a Python program that takes user input for the principal amount, interest rate, and period and then computes the compound interest using the provided numeric data types. Ensure the program handles various scenarios such as interest rates and periods accurately."
   ]
  },
  {
   "cell_type": "code",
   "execution_count": 8,
   "id": "251f4404-213a-49a2-961f-6eb221b64b76",
   "metadata": {},
   "outputs": [
    {
     "name": "stdin",
     "output_type": "stream",
     "text": [
      "Enter the Principal Amount:  1200\n",
      "Enter the interest rate:  5.4\n",
      "Enter the time period in years:  2\n"
     ]
    },
    {
     "name": "stdout",
     "output_type": "stream",
     "text": [
      "Compund Interest is  133.0992000000001\n"
     ]
    }
   ],
   "source": [
    "principal=float(input(\"Enter the Principal Amount: \"))\n",
    "rate=float(input(\"Enter the interest rate: \"))\n",
    "time=float(input(\"Enter the time period in years: \"))\n",
    "Amount=principal*((1+rate/100)**time)\n",
    "compound=Amount-principal\n",
    "print(\"Compund Interest is \",compound)"
   ]
  },
  {
   "cell_type": "markdown",
   "id": "77f63563-fccb-4a82-b1bd-8107bc5a2922",
   "metadata": {},
   "source": [
    "Problem Statement: You are tasked with building an email automation system for a marketing campaign. Your program must generate personalized email messages for customers based on their names and recent purchases. Develop a Python script that utilizes string operations to construct dynamic email templates by inserting customer names and product details into predefined message formats."
   ]
  },
  {
   "cell_type": "code",
   "execution_count": 5,
   "id": "16c1942f-87ff-43f5-83d0-e4da782f987b",
   "metadata": {},
   "outputs": [
    {
     "name": "stdin",
     "output_type": "stream",
     "text": [
      "Enter Your Name: Tejas\n",
      "Enter Your Email Id: hgjhfxcv@gmail.com\n",
      "Enter Your Product: PARLE PREMIUM BISCUITS\n",
      "Enter Date of purchase(DD-MM-YY):  03-01-2025\n"
     ]
    },
    {
     "name": "stdout",
     "output_type": "stream",
     "text": [
      "\n",
      "\n",
      "To:  hgjhfxcv@gmail.com\n",
      "\n",
      "Dear Costumer Tejas ,\n",
      "\n",
      "This is a system generated email for Marketing Purposes.\n",
      "\n",
      "You have recently purchased  PARLE PREMIUM BISCUITS on date  03-01-2025 \n",
      "\n",
      "Thank You for the Purchase>>>>\n"
     ]
    }
   ],
   "source": [
    "name=str(input(\"Enter Your Name:\"))\n",
    "mail=str(input(\"Enter Your Email Id:\"))\n",
    "product=str(input(\"Enter Your Product:\"))\n",
    "date=str(input(\"Enter Date of purchase(DD-MM-YYYY): \"))\n",
    "print(\"\\n\\nTo: \",mail)\n",
    "print(\"\\nDear Costumer\",name,\",\\n\")\n",
    "print(\"This is a system generated email for Marketing Purposes.\\n\")\n",
    "print(\"You have recently purchased \",product,\"on date \",date,\"\\n\")\n",
    "print(\"Thank You for the Purchase>>>>\")\n"
   ]
  },
  {
   "cell_type": "markdown",
   "id": "b01906d1-1b1e-4986-9f1d-f0ad88a7a176",
   "metadata": {},
   "source": [
    "You are a cashier at a grocery store. Customers come to your counter with different items. Each item has a specific price (float). You must add up all the prices (float) to get the total bill (float). Write a Python program to calculate the total bill."
   ]
  },
  {
   "cell_type": "code",
   "execution_count": 10,
   "id": "028aac5d-bb0a-4397-8fc4-335b4dd833ff",
   "metadata": {},
   "outputs": [
    {
     "name": "stdin",
     "output_type": "stream",
     "text": [
      "Enter the number of items:  5\n",
      "Enter the price of item 1:  230.45\n"
     ]
    },
    {
     "name": "stdout",
     "output_type": "stream",
     "text": [
      "Total bill: Rs230.45\n"
     ]
    },
    {
     "name": "stdin",
     "output_type": "stream",
     "text": [
      "Enter the price of item 2:  56.82\n"
     ]
    },
    {
     "name": "stdout",
     "output_type": "stream",
     "text": [
      "Total bill: Rs287.27\n"
     ]
    },
    {
     "name": "stdin",
     "output_type": "stream",
     "text": [
      "Enter the price of item 3:  89.50\n"
     ]
    },
    {
     "name": "stdout",
     "output_type": "stream",
     "text": [
      "Total bill: Rs376.77\n"
     ]
    },
    {
     "name": "stdin",
     "output_type": "stream",
     "text": [
      "Enter the price of item 4:  150.85\n"
     ]
    },
    {
     "name": "stdout",
     "output_type": "stream",
     "text": [
      "Total bill: Rs527.62\n"
     ]
    },
    {
     "name": "stdin",
     "output_type": "stream",
     "text": [
      "Enter the price of item 5:  65.23\n"
     ]
    },
    {
     "name": "stdout",
     "output_type": "stream",
     "text": [
      "Total bill: Rs592.85\n"
     ]
    }
   ],
   "source": [
    "total_bill = 0.0\n",
    "num_items = int(input(\"Enter the number of items: \"))\n",
    "for i in range(num_items):\n",
    "    price = float(input(f\"Enter the price of item {i+1}: \"))\n",
    "    total_bill += price\n",
    "    print(f\"Total bill: Rs{total_bill:.2f}\")"
   ]
  }
 ],
 "metadata": {
  "kernelspec": {
   "display_name": "Python 3 (ipykernel)",
   "language": "python",
   "name": "python3"
  },
  "language_info": {
   "codemirror_mode": {
    "name": "ipython",
    "version": 3
   },
   "file_extension": ".py",
   "mimetype": "text/x-python",
   "name": "python",
   "nbconvert_exporter": "python",
   "pygments_lexer": "ipython3",
   "version": "3.12.5"
  }
 },
 "nbformat": 4,
 "nbformat_minor": 5
}
