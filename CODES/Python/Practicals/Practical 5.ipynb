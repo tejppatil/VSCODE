{
 "cells": [
  {
   "cell_type": "markdown",
   "id": "a0221d7d-7db3-4b2e-b0a7-344b80ebce78",
   "metadata": {},
   "source": [
    "USING WHILE LOOP.\n",
    "\n",
    "1. If input = 5 \n",
    "print \n",
    "A A A A A \n",
    "B B B B \n",
    "C C C \n",
    "D D \n",
    "E"
   ]
  },
  {
   "cell_type": "code",
   "execution_count": 9,
   "id": "24b63c88-7b5e-45d4-94be-abb90d19bc59",
   "metadata": {},
   "outputs": [
    {
     "name": "stdin",
     "output_type": "stream",
     "text": [
      "Enter the value: 5\n"
     ]
    },
    {
     "name": "stdout",
     "output_type": "stream",
     "text": [
      "A A A A A \n",
      "B B B B \n",
      "C C C \n",
      "D D \n",
      "E \n"
     ]
    }
   ],
   "source": [
    "n=int(input(\"Enter the value:\"))\n",
    "ch=ord('A')\n",
    "i=0\n",
    "while i<n:\n",
    "    j=0\n",
    "    while j<(n-i):\n",
    "        print(chr(ch+i),end=' ')\n",
    "        j=j+1\n",
    "    print()\n",
    "    i=i+1\n",
    "        "
   ]
  },
  {
   "cell_type": "markdown",
   "id": "6d73d68b-e6bc-4c6f-a901-f1dad7369193",
   "metadata": {},
   "source": [
    "2.  If input = 5 \n",
    "print \n",
    "1 \n",
    "2 3 \n",
    "4 5 6 \n",
    "7 8 9 10 \n",
    "11 12 13 14 15"
   ]
  },
  {
   "cell_type": "code",
   "execution_count": 1,
   "id": "09402d9a-f6bd-49c7-bfad-8d0bac311f0a",
   "metadata": {},
   "outputs": [
    {
     "name": "stdin",
     "output_type": "stream",
     "text": [
      "Enter the value: 5\n"
     ]
    },
    {
     "name": "stdout",
     "output_type": "stream",
     "text": [
      "1 \n",
      "2 3 \n",
      "4 5 6 \n",
      "7 8 9 10 \n",
      "11 12 13 14 15 \n"
     ]
    }
   ],
   "source": [
    "n=int(input(\"Enter the value:\"))\n",
    "num=1\n",
    "i=0\n",
    "while i<n:\n",
    "    j=0\n",
    "    while j<=i:\n",
    "        print(num,end=' ')\n",
    "        num=num+1\n",
    "        j=j+1\n",
    "    print()\n",
    "    i=i+1"
   ]
  },
  {
   "cell_type": "markdown",
   "id": "5da7226a-c504-4b3d-a295-845b284fd27f",
   "metadata": {},
   "source": [
    "3. If input = 5 \n",
    "print \n",
    "* - * - *\n",
    "- * - * -\n",
    "* - * - *\n",
    "- * - * -\n",
    "* - * - *"
   ]
  },
  {
   "cell_type": "code",
   "execution_count": 1,
   "id": "8511ab47-1046-4ad0-a334-6f2c836a2dea",
   "metadata": {},
   "outputs": [
    {
     "name": "stdin",
     "output_type": "stream",
     "text": [
      "Enter the value: 5\n"
     ]
    },
    {
     "name": "stdout",
     "output_type": "stream",
     "text": [
      "* - * - * \n",
      "- * - * - \n",
      "* - * - * \n",
      "- * - * - \n",
      "* - * - * \n"
     ]
    }
   ],
   "source": [
    "n=int(input(\"Enter the value:\"))\n",
    "num=1\n",
    "i=0\n",
    "while i<n:\n",
    "    j=0\n",
    "    while j<n:\n",
    "        if (i+j)%2==0:\n",
    "            print('*', end=' ')\n",
    "        else:\n",
    "            print('-', end=' ')\n",
    "        j=j+1\n",
    "    print()\n",
    "    i=i+1"
   ]
  },
  {
   "cell_type": "markdown",
   "id": "d693e4a6-ea36-4804-a943-d60c2c8ded99",
   "metadata": {},
   "source": [
    "4.   If input = 5 \n",
    "print \n",
    "    *\n",
    "   * *\n",
    "  * * *\n",
    " * * * *\n",
    "* * * * *"
   ]
  },
  {
   "cell_type": "code",
   "execution_count": 19,
   "id": "d4c35bc0-b4ce-4c70-8773-fdf811333d50",
   "metadata": {},
   "outputs": [
    {
     "name": "stdin",
     "output_type": "stream",
     "text": [
      "Enter the value: 5\n"
     ]
    },
    {
     "name": "stdout",
     "output_type": "stream",
     "text": [
      "    * \n",
      "   * * \n",
      "  * * * \n",
      " * * * * \n",
      "* * * * * \n"
     ]
    }
   ],
   "source": [
    "n=int(input(\"Enter the value:\"))\n",
    "i=1\n",
    "while i<=n:\n",
    "    print(' '*(n-i) + '* '*i)\n",
    "    i=i+1"
   ]
  },
  {
   "cell_type": "markdown",
   "id": "3165f830-a3ad-4bb1-a0d4-214a11bba3d6",
   "metadata": {},
   "source": [
    "5.  If input = 5 \n",
    "print \n",
    "*\n",
    "* *\n",
    "*   *\n",
    "*      *\n",
    "* * * * *"
   ]
  },
  {
   "cell_type": "code",
   "execution_count": 3,
   "id": "777fa134-5d87-41fa-b7d8-07bc2c6c7695",
   "metadata": {},
   "outputs": [
    {
     "name": "stdin",
     "output_type": "stream",
     "text": [
      "Enter the value: 5\n"
     ]
    },
    {
     "name": "stdout",
     "output_type": "stream",
     "text": [
      "* \n",
      "* * \n",
      "*   * \n",
      "*     * \n",
      "* * * * * \n"
     ]
    }
   ],
   "source": [
    "n=int(input(\"Enter the value:\"))\n",
    "num=1\n",
    "i=0\n",
    "while i<n:\n",
    "    j=0\n",
    "    while j<=i:\n",
    "        if j==0 or j==i or i==(n-1):\n",
    "            print('*',end=' ')\n",
    "        else:\n",
    "            print(' ',end=' ')\n",
    "        j=j+1\n",
    "    print()\n",
    "    i=i+1"
   ]
  },
  {
   "cell_type": "markdown",
   "id": "e98c5d09-d80d-4776-96dd-26f5ef63239e",
   "metadata": {},
   "source": [
    "6. If input = 5 \n",
    "print \n",
    "* * * * *\n",
    "          *\n",
    "* * * * *\n",
    "          *\n",
    "* * * * * "
   ]
  },
  {
   "cell_type": "code",
   "execution_count": 20,
   "id": "225de061-c75b-4b0e-9e00-2808aea696b6",
   "metadata": {},
   "outputs": [
    {
     "name": "stdin",
     "output_type": "stream",
     "text": [
      "Enter the value: 5\n"
     ]
    },
    {
     "name": "stdout",
     "output_type": "stream",
     "text": [
      "* * * * * \n",
      "          *\n",
      "* * * * * \n",
      "          *\n",
      "* * * * * \n"
     ]
    }
   ],
   "source": [
    "n=int(input(\"Enter the value:\"))\n",
    "i=0\n",
    "while i<n:\n",
    "    if i%2==0:\n",
    "        print('* '*n)\n",
    "    else:\n",
    "        print(' '*(2*n)+\"*\")\n",
    "    i=i+1    "
   ]
  },
  {
   "cell_type": "markdown",
   "id": "45603596-f779-4e3a-b703-b66168ed7d0c",
   "metadata": {},
   "source": [
    "7.  If input = 5 \n",
    "print \n",
    "1\n",
    "1 2\n",
    "1 2 3\n",
    "1 2 3 4\n",
    "1 2 3 4 5"
   ]
  },
  {
   "cell_type": "code",
   "execution_count": 1,
   "id": "e3d93a8c-fd35-49be-bb9e-5367a354b950",
   "metadata": {},
   "outputs": [
    {
     "name": "stdin",
     "output_type": "stream",
     "text": [
      "Enter the value: 5\n"
     ]
    },
    {
     "name": "stdout",
     "output_type": "stream",
     "text": [
      "1 \n",
      "1 2 \n",
      "1 2 3 \n",
      "1 2 3 4 \n",
      "1 2 3 4 5 \n"
     ]
    }
   ],
   "source": [
    "n=int(input(\"Enter the value:\"))\n",
    "num=1\n",
    "i=0\n",
    "while i<n:\n",
    "    j=0\n",
    "    while j<=i:\n",
    "        j=0\n",
    "        num=1\n",
    "        while j<=i:\n",
    "            print(num,end=' ')\n",
    "            num=num+1\n",
    "            j=j+1\n",
    "    print()\n",
    "    i=i+1"
   ]
  },
  {
   "cell_type": "code",
   "execution_count": null,
   "id": "c7393455-2464-4568-b6db-e3b6ceb0423a",
   "metadata": {},
   "outputs": [],
   "source": []
  }
 ],
 "metadata": {
  "kernelspec": {
   "display_name": "Python 3 (ipykernel)",
   "language": "python",
   "name": "python3"
  },
  "language_info": {
   "codemirror_mode": {
    "name": "ipython",
    "version": 3
   },
   "file_extension": ".py",
   "mimetype": "text/x-python",
   "name": "python",
   "nbconvert_exporter": "python",
   "pygments_lexer": "ipython3",
   "version": "3.12.5"
  }
 },
 "nbformat": 4,
 "nbformat_minor": 5
}
