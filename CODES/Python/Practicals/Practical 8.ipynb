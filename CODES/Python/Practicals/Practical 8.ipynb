{
 "cells": [
  {
   "cell_type": "markdown",
   "id": "d66fc911-1387-4573-a3ed-79e8acd86b29",
   "metadata": {},
   "source": [
    "1. You are building a word game. Write a function that checks whether two given strings are\n",
    " anagrams (contain the same letters, ignoring spaces and capitalization). Test cases (“listen”,“silent”) Output: True (“hello”, “world”) Output: False"
   ]
  },
  {
   "cell_type": "code",
   "execution_count": 11,
   "id": "3754d43e-5c74-4279-9350-551ec9b52c9f",
   "metadata": {},
   "outputs": [
    {
     "name": "stdin",
     "output_type": "stream",
     "text": [
      "Enter Word 1:  SILENT\n",
      "Enter Word 2:  listen\n"
     ]
    },
    {
     "name": "stdout",
     "output_type": "stream",
     "text": [
      "Words are Anagrams\n"
     ]
    }
   ],
   "source": [
    "def anagram(w1, w2):\n",
    "    return sorted(w1.replace(\" \", \"\")) == sorted(w2.replace(\" \", \"\"))\n",
    "\n",
    "w1 = input(\"Enter Word 1: \").lower()\n",
    "w2 = input(\"Enter Word 2: \").lower()\n",
    "\n",
    "if anagram(w1, w2):\n",
    "    print(\"Words are Anagrams\")\n",
    "else:\n",
    "    print(\"Words are not Anagrams\")"
   ]
  },
  {
   "cell_type": "markdown",
   "id": "b452a3cd-b9a8-416c-9f9e-740eb971bb47",
   "metadata": {},
   "source": [
    " 2. You are working on a code formatter. Write a function that converts a given CamelCase string to snake_case (all lowercase with underscores). Test case (“CamelCaseExample”) Output:“camel_case_example”"
   ]
  },
  {
   "cell_type": "code",
   "execution_count": 14,
   "id": "b3bba29b-1c4c-41ea-b8ef-440e7db65316",
   "metadata": {},
   "outputs": [
    {
     "name": "stdin",
     "output_type": "stream",
     "text": [
      "Enter string in CamelCase:  CamelCase\n"
     ]
    },
    {
     "name": "stdout",
     "output_type": "stream",
     "text": [
      "Snake case: camel_case\n"
     ]
    }
   ],
   "source": [
    "def camel_to_snake(camel_case):\n",
    "    snake_string = \"\"\n",
    "    for char in camel_case:\n",
    "        if char.isupper():\n",
    "            if snake_string:  \n",
    "                snake_string += \"_\"\n",
    "            snake_string += char.lower()\n",
    "        else:\n",
    "            snake_string += char\n",
    "    return snake_string\n",
    "\n",
    "camel_case = input(\"Enter string in CamelCase: \")\n",
    "snake_case = camel_to_snake(camel_case)\n",
    "print(\"Snake case:\", snake_case)"
   ]
  },
  {
   "cell_type": "markdown",
   "id": "3ce0e7b3-7b6b-4530-a2c1-9d05fb8c8a18",
   "metadata": {},
   "source": [
    " 3. You are building a user registration system. Write a function that checks whether a given password meets the following criteria: At least 8 characters long Contains at least one uppercase letter Contains at least one lowercase letter Contains at least one digit"
   ]
  },
  {
   "cell_type": "code",
   "execution_count": 17,
   "id": "72c6f7e2-426e-447e-913d-6155f582d642",
   "metadata": {},
   "outputs": [
    {
     "name": "stdin",
     "output_type": "stream",
     "text": [
      "Enter Password:  Admin@1234\n"
     ]
    },
    {
     "name": "stdout",
     "output_type": "stream",
     "text": [
      "Password is Strong!\n"
     ]
    }
   ],
   "source": [
    "def password_check(password):\n",
    "    upper = False\n",
    "    lower = False\n",
    "    digit = False\n",
    "\n",
    "    if len(password) < 8:\n",
    "        print(\"Password must be at least 8 characters!\")\n",
    "        return\n",
    "\n",
    "    for char in password:\n",
    "        if char.isupper():\n",
    "            upper = True\n",
    "        elif char.islower():\n",
    "            lower = True\n",
    "        elif char.isdigit():\n",
    "            digit = True\n",
    "\n",
    "    if not upper:\n",
    "        print(\"Add at least 1 uppercase letter.\")\n",
    "    elif not lower:\n",
    "        print(\"Add at least 1 lowercase letter.\")\n",
    "    elif not digit:\n",
    "        print(\"Add at least 1 digit.\")\n",
    "    else:\n",
    "        print(\"Password is Strong!\")\n",
    "\n",
    "password = input(\"Enter Password: \")\n",
    "password_check(password)"
   ]
  },
  {
   "cell_type": "markdown",
   "id": "b37e7f88-dc28-4a15-a0f2-2dd42d5dd2ee",
   "metadata": {},
   "source": [
    " 4. You are working on a text manipulation tool that requires rotating words in a sentence.Implement a Python function rotate_sentence(sentence, n) that takes a sentence and an integer n as input and rotates each word in the sentence by n positions to the right. Test case rotating “Hello World” by 1 position results in “World Hello”."
   ]
  },
  {
   "cell_type": "code",
   "execution_count": 20,
   "id": "8ee58d08-e4c9-4721-acdb-6e8d2e53d38f",
   "metadata": {},
   "outputs": [
    {
     "name": "stdin",
     "output_type": "stream",
     "text": [
      "Enter Sentence:  Hello World\n",
      "Enter position:  1\n"
     ]
    },
    {
     "name": "stdout",
     "output_type": "stream",
     "text": [
      "Rotated Sentence: World Hello\n"
     ]
    }
   ],
   "source": [
    "def rotate_sentence(sentence, n):\n",
    "    words = sentence.split()\n",
    "    n = n % len(words) if words else 0\n",
    "    rotated = words[n:] + words[:n]\n",
    "    print(\"Rotated Sentence:\", \" \".join(rotated))\n",
    "    \n",
    "sentence = input(\"Enter Sentence: \")\n",
    "n = int(input(\"Enter position: \"))\n",
    "\n",
    "rotate_sentence(sentence, n)"
   ]
  },
  {
   "cell_type": "markdown",
   "id": "8613e823-6cba-4f52-8e26-e94fa688c0af",
   "metadata": {},
   "source": [
    " 5. You are working on a text processing tool and need to determine whether a given string is a palindrome. Write a Python function is_palindrome(word) that takes a word as input and returns True if it is a palindrome, otherwise False."
   ]
  },
  {
   "cell_type": "code",
   "execution_count": 22,
   "id": "f4cd9e72-ca99-46e4-bf1a-5edf6cb890ba",
   "metadata": {},
   "outputs": [
    {
     "name": "stdin",
     "output_type": "stream",
     "text": [
      "Enter Word:  SARAS\n"
     ]
    },
    {
     "name": "stdout",
     "output_type": "stream",
     "text": [
      "Word is a Palindrome\n"
     ]
    }
   ],
   "source": [
    "def is_palindrome(word):\n",
    "    \"\"\"Check if a word is a palindrome.\"\"\"\n",
    "    return word == word[::-1]\n",
    "\n",
    "word = input(\"Enter Word: \").lower()\n",
    "\n",
    "if is_palindrome(word):\n",
    "    print(\"Word is a Palindrome\")\n",
    "else:\n",
    "    print(\"Word is not a Palindrome\")"
   ]
  }
 ],
 "metadata": {
  "kernelspec": {
   "display_name": "Python 3 (ipykernel)",
   "language": "python",
   "name": "python3"
  },
  "language_info": {
   "codemirror_mode": {
    "name": "ipython",
    "version": 3
   },
   "file_extension": ".py",
   "mimetype": "text/x-python",
   "name": "python",
   "nbconvert_exporter": "python",
   "pygments_lexer": "ipython3",
   "version": "3.12.5"
  }
 },
 "nbformat": 4,
 "nbformat_minor": 5
}
