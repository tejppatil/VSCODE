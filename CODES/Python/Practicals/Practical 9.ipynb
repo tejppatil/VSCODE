{
 "cells": [
  {
   "cell_type": "markdown",
   "id": "3b256b93-8c80-4e65-afb4-e518ff4d2096",
   "metadata": {},
   "source": [
    "1.You are developing a data processing tool where you\n",
    "receive a list of mixed data types. You must filter out non-numeric values\n",
    "and convert the remaining values to integers. Write a Python function\n",
    "filter_and_convert_to_integers(data) that takes a list of mixed data types as\n",
    "input, filters out non-numeric values, and returns a new list with the\n",
    "remaining values converted to integers."
   ]
  },
  {
   "cell_type": "code",
   "execution_count": 7,
   "id": "2c430de6-29a2-4b7a-82a6-c8434a8a899b",
   "metadata": {},
   "outputs": [
    {
     "name": "stdin",
     "output_type": "stream",
     "text": [
      "Enter a list of values separated by commas:  10, 20, abc, 30.5, 40, None, True, False, 50, 100xyz\n"
     ]
    },
    {
     "name": "stdout",
     "output_type": "stream",
     "text": [
      "\n",
      "Initial Data: [10, 20, 'abc', 30.5, 40, 'None', 'True', 'False', 50, '100xyz']\n",
      "Converted Data: [10, 20, 30, 40, 50]\n"
     ]
    }
   ],
   "source": [
    "def filter_and_convert_to_integers(data):\n",
    "    filtered_data = []\n",
    "    \n",
    "    for item in data:\n",
    "        if isinstance(item, (int, float)) and not isinstance(item, bool):  \n",
    "            filtered_data.append(int(item))\n",
    "        elif isinstance(item, str) and item.strip().isdigit():\n",
    "            filtered_data.append(int(item.strip()))\n",
    "    \n",
    "    return filtered_data\n",
    "\n",
    "raw_data = input(\"Enter a list of values separated by commas: \").split(\",\")\n",
    "\n",
    "processed_data = []\n",
    "for item in raw_data:\n",
    "    item = item.strip()\n",
    "    if item.isdigit():\n",
    "        processed_data.append(int(item))\n",
    "    else:\n",
    "        try:\n",
    "            processed_data.append(float(item))\n",
    "        except ValueError:\n",
    "            processed_data.append(item)\n",
    "\n",
    "print(\"\\nInitial Data:\", processed_data)\n",
    "filtered_data = filter_and_convert_to_integers(processed_data)\n",
    "print(\"Converted Data:\", filtered_data)"
   ]
  },
  {
   "cell_type": "markdown",
   "id": "93ed2227-ba15-4d07-acd3-b91ced0d1ef5",
   "metadata": {},
   "source": [
    "2.You're building a music playlist manager and need\n",
    "to merge two playlists into one sorted playlist. Write a Python function\n",
    "merge_and_sort_playlists (playlist1, playlist2) that takes two lists of songs\n",
    "as input, merges them into one list, and sorts the merged list alphabetically."
   ]
  },
  {
   "cell_type": "code",
   "execution_count": 8,
   "id": "60f94942-8c34-412a-883c-98eeb0bc9c8d",
   "metadata": {},
   "outputs": [
    {
     "name": "stdin",
     "output_type": "stream",
     "text": [
      "Enter the first playlist (comma-separated songs):  Song A, Song C, Song B\n",
      "Enter the second playlist (comma-separated songs):  Song D, Song B, Song E\n"
     ]
    },
    {
     "name": "stdout",
     "output_type": "stream",
     "text": [
      "\n",
      "Merged Playlist: ['Song A', 'Song B', 'Song B', 'Song C', 'Song D', 'Song E']\n"
     ]
    }
   ],
   "source": [
    "def merge_and_sort_playlists(playlist1, playlist2):\n",
    "    merged_playlist = playlist1 + playlist2\n",
    "    return sorted(merged_playlist)\n",
    "\n",
    "playlist1 = input(\"Enter the first playlist (comma-separated songs): \").split(\",\")\n",
    "playlist2 = input(\"Enter the second playlist (comma-separated songs): \").split(\",\")\n",
    "\n",
    "playlist1 = [song.strip() for song in playlist1]\n",
    "playlist2 = [song.strip() for song in playlist2]\n",
    "\n",
    "merged_playlist = merge_and_sort_playlists(playlist1, playlist2)\n",
    "\n",
    "print(\"\\nMerged Playlist:\", merged_playlist)"
   ]
  },
  {
   "cell_type": "markdown",
   "id": "500d8cbe-0265-498f-9bac-dbd0097e53eb",
   "metadata": {},
   "source": [
    "3.You're analyzing sales data and need to group sales\n",
    "amounts by product category and calculate the total sales for each category.\n",
    "Write a Python function calculate_total_sales(sales_data) that takes a list of\n",
    "tuples (product, amount) as input, where the product is the product category\n",
    "and the amount is the sales amount. It should return a dictionary where keys\n",
    "are product categories and values are the total sales amounts for each\n",
    "category."
   ]
  },
  {
   "cell_type": "code",
   "execution_count": 10,
   "id": "08c47753-0861-479f-a33e-c9d5216f52e5",
   "metadata": {},
   "outputs": [
    {
     "name": "stdin",
     "output_type": "stream",
     "text": [
      "Enter sales data (product, amount) separated by commas. For example: Electronics,100, Clothing,50:  Electronics,100, Clothing,50: Electronics, 100, Clothing\n"
     ]
    },
    {
     "name": "stdout",
     "output_type": "stream",
     "text": [
      "Invalid amount '50: Electronics' for product 'Clothing', skipping.\n",
      "Invalid amount ' Clothing' for product '100', skipping.\n",
      "\n",
      "Sales Data: [('Electronics', 100.0)]\n",
      "Total Sales by Category: {'Electronics': 100.0}\n"
     ]
    }
   ],
   "source": [
    "from collections import defaultdict\n",
    "\n",
    "def calculate_total_sales(sales_data):\n",
    "    sales_summary = defaultdict(float)\n",
    "    \n",
    "    for product, amount in sales_data:\n",
    "        sales_summary[product] += amount\n",
    "    \n",
    "    return dict(sales_summary)\n",
    "\n",
    "sales_data_input = input(\"Enter sales data (product, amount) separated by commas. For example: Electronics,100, Clothing,50: \")\n",
    "sales_data_list = sales_data_input.split(\",\")\n",
    "sales_data = []\n",
    "\n",
    "if len(sales_data_list) % 2 != 0:\n",
    "    print(\"Invalid input! You need to enter product and amount pairs.\")\n",
    "else:\n",
    "    for i in range(0, len(sales_data_list), 2):\n",
    "        product = sales_data_list[i].strip()\n",
    "        try:\n",
    "            amount = float(sales_data_list[i + 1].strip())\n",
    "            sales_data.append((product, amount))\n",
    "        except ValueError:\n",
    "            print(f\"Invalid amount '{sales_data_list[i + 1]}' for product '{product}', skipping.\")\n",
    "\n",
    "    total_sales = calculate_total_sales(sales_data)\n",
    "\n",
    "    print(\"\\nSales Data:\", sales_data)\n",
    "    print(\"Total Sales by Category:\", total_sales)\n"
   ]
  },
  {
   "cell_type": "markdown",
   "id": "154e8358-7996-4930-ad43-4d78f4b6aba3",
   "metadata": {},
   "source": [
    "4.You're implementing a game where players can rotate\n",
    "a list of numbers to the left by a given number of positions. Write a Python\n",
    "function rotate_list_left (numbers, positions) that takes a list of numbers and\n",
    "the number of positions to rotate as input, and returns a new list with the\n",
    "elements rotated to the left by the specified number of positions."
   ]
  },
  {
   "cell_type": "code",
   "execution_count": 11,
   "id": "d69256cf-fb66-4654-a43a-6b4dbb799d1f",
   "metadata": {},
   "outputs": [
    {
     "name": "stdin",
     "output_type": "stream",
     "text": [
      "Enter a list of numbers separated by commas:  1, 2, 3, 4, 5\n",
      "Enter the number of positions to rotate:  2\n"
     ]
    },
    {
     "name": "stdout",
     "output_type": "stream",
     "text": [
      "\n",
      "Original List: [1, 2, 3, 4, 5]\n",
      "Rotated List: [3, 4, 5, 1, 2]\n"
     ]
    }
   ],
   "source": [
    "def rotate_list_left(numbers, positions):\n",
    "    if not numbers:\n",
    "        return []\n",
    "    positions = positions % len(numbers)\n",
    "    return numbers[positions:] + numbers[:positions]\n",
    "\n",
    "numbers_input = input(\"Enter a list of numbers separated by commas: \").split(\",\")\n",
    "numbers = [int(num.strip()) for num in numbers_input]\n",
    "\n",
    "positions = int(input(\"Enter the number of positions to rotate: \"))\n",
    "\n",
    "rotated_list = rotate_list_left(numbers, positions)\n",
    "\n",
    "print(\"\\nOriginal List:\", numbers)\n",
    "print(\"Rotated List:\", rotated_list)"
   ]
  },
  {
   "cell_type": "code",
   "execution_count": null,
   "id": "9649bd04-ca06-400b-abaa-c25fc7bf6a4a",
   "metadata": {},
   "outputs": [],
   "source": []
  }
 ],
 "metadata": {
  "kernelspec": {
   "display_name": "Python 3 (ipykernel)",
   "language": "python",
   "name": "python3"
  },
  "language_info": {
   "codemirror_mode": {
    "name": "ipython",
    "version": 3
   },
   "file_extension": ".py",
   "mimetype": "text/x-python",
   "name": "python",
   "nbconvert_exporter": "python",
   "pygments_lexer": "ipython3",
   "version": "3.12.5"
  }
 },
 "nbformat": 4,
 "nbformat_minor": 5
}
