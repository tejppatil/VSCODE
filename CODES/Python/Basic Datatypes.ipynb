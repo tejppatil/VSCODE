{
 "cells": [
  {
   "cell_type": "code",
   "execution_count": 1,
   "id": "7d24e818-5511-42b6-942e-36dabc341d5f",
   "metadata": {},
   "outputs": [
    {
     "name": "stdout",
     "output_type": "stream",
     "text": [
      "Sum of 10 and 20 is: 30\n"
     ]
    }
   ],
   "source": [
    "num1 = 10\n",
    "num2 = 20\n",
    "sum_int = num1 + num2\n",
    "print(\"Sum of\" , num1, \"and\", num2, \"is:\", sum_int)"
   ]
  },
  {
   "cell_type": "code",
   "execution_count": 2,
   "id": "5605e7eb-1413-413d-b426-566d639afbfc",
   "metadata": {},
   "outputs": [
    {
     "name": "stdout",
     "output_type": "stream",
     "text": [
      "Product of 10.5 and 5.3 is: 55.65\n"
     ]
    }
   ],
   "source": [
    "num1 = 10.5\n",
    "num2 = 5.3\n",
    "product_float = num1*num2\n",
    "print(\"Product of\", num1, \"and\", num2, \"is:\", product_float)"
   ]
  },
  {
   "cell_type": "code",
   "execution_count": 3,
   "id": "bc5f8b2d-7be7-45d2-a268-e40615481a47",
   "metadata": {},
   "outputs": [
    {
     "name": "stdout",
     "output_type": "stream",
     "text": [
      "3.14\n",
      "<class 'float'>\n"
     ]
    }
   ],
   "source": [
    "y = 3.14\n",
    "print(y)\n",
    "print(type(y))"
   ]
  },
  {
   "cell_type": "code",
   "execution_count": 4,
   "id": "c3bc6f22-fc20-4431-9c5d-e3d17580192b",
   "metadata": {},
   "outputs": [
    {
     "name": "stdout",
     "output_type": "stream",
     "text": [
      "10\n",
      "<class 'int'>\n"
     ]
    }
   ],
   "source": [
    "x = 10\n",
    "print(x)\n",
    "print(type(x))"
   ]
  },
  {
   "cell_type": "code",
   "execution_count": 5,
   "id": "214fea74-1e21-4bbf-8e6c-d48f88b7b6de",
   "metadata": {},
   "outputs": [
    {
     "name": "stdout",
     "output_type": "stream",
     "text": [
      "a + b = 13\n",
      "a - b = 7\n",
      "a * b = 30\n",
      "a / b = 3.3333333333333335\n",
      "a // b = 3\n",
      "a % b = 1\n",
      "a ** b = 1000\n"
     ]
    }
   ],
   "source": [
    "a = 10\n",
    "b = 3\n",
    "print(\"a + b =\", a+b)\n",
    "print(\"a - b =\", a-b)\n",
    "print(\"a * b =\", a*b)\n",
    "print(\"a / b =\", a/b)\n",
    "print(\"a // b =\", a//b) #floor division\n",
    "print(\"a % b =\", a%b)\n",
    "print(\"a ** b =\", a**b)"
   ]
  },
  {
   "cell_type": "code",
   "execution_count": 6,
   "id": "f84b0606-44a8-4fd5-9630-252f6593b8bc",
   "metadata": {},
   "outputs": [
    {
     "name": "stdout",
     "output_type": "stream",
     "text": [
      "Integer 10.0 converted to float: 10.0\n",
      "Float 15.7 converted to integer: 15\n"
     ]
    }
   ],
   "source": [
    "num_int = 10\n",
    "num_float = float(num_int)\n",
    "print(\"Integer\", num_float, \"converted to float:\", num_float)\n",
    "\n",
    "num_float = 15.7\n",
    "num_int = int(num_float)\n",
    "print(\"Float\", num_float, \"converted to integer:\", num_int)"
   ]
  },
  {
   "cell_type": "code",
   "execution_count": 7,
   "id": "2c51b429-3ab7-4270-9c4a-49d58f30fe46",
   "metadata": {},
   "outputs": [
    {
     "name": "stdout",
     "output_type": "stream",
     "text": [
      "(2+5j)\n",
      "<class 'complex'>\n"
     ]
    }
   ],
   "source": [
    "#Program 3:Declare and print a complex variable\n",
    "z = 2 +5j\n",
    "print(z)\n",
    "print(type(z))"
   ]
  },
  {
   "cell_type": "code",
   "execution_count": 8,
   "id": "5d014ec4-e1c0-4b50-a559-58426564135a",
   "metadata": {},
   "outputs": [
    {
     "name": "stdout",
     "output_type": "stream",
     "text": [
      "3 4.0 (5+6j) (7.8+9.1j) 5 9.1\n"
     ]
    }
   ],
   "source": [
    "#Program 5:COnvert between numerise data types\n",
    "j = int(3.5)\n",
    "k = float(4)\n",
    "l = complex(5, 6)\n",
    "m = complex(7.8, 9.1)\n",
    "n = int(l.real)\n",
    "o = float(m.imag)\n",
    "print(j, k, l, m, n, o)"
   ]
  },
  {
   "cell_type": "code",
   "execution_count": 9,
   "id": "62f071c8-89e8-48c7-b640-a112acdf84eb",
   "metadata": {},
   "outputs": [
    {
     "name": "stdout",
     "output_type": "stream",
     "text": [
      "Hello, world!\n",
      "<class 'str'>\n"
     ]
    }
   ],
   "source": [
    "#Program 1:Declare and print a string variable\n",
    "s = \"Hello, world!\"\n",
    "print(s)\n",
    "print(type(s))"
   ]
  },
  {
   "cell_type": "code",
   "execution_count": 10,
   "id": "b4dd6cfb-2629-4421-9fdf-a8f9537c276a",
   "metadata": {},
   "outputs": [
    {
     "name": "stdout",
     "output_type": "stream",
     "text": [
      "P\n",
      "n\n",
      "thon\n",
      "Pyth\n",
      "in fun\n"
     ]
    }
   ],
   "source": [
    "#program 2:Access and slice a string\n",
    "t = \"Python in fun\"\n",
    "print(t[0]) #get the first character\n",
    "print(t[-1]) #get the first character\n",
    "print(t[2:6]) #get a substring from index 2 to 5\n",
    "print(t[:4]) #get a substring from beginning to 3\n",
    "print(t[7:]) #get a substring from index 7 to end"
   ]
  },
  {
   "cell_type": "code",
   "execution_count": 12,
   "id": "6441ef8a-9703-4431-afd6-6ff701d7fdc8",
   "metadata": {},
   "outputs": [
    {
     "name": "stdout",
     "output_type": "stream",
     "text": [
      "13\n"
     ]
    }
   ],
   "source": [
    "print(len(t))"
   ]
  },
  {
   "cell_type": "code",
   "execution_count": null,
   "id": "35bb1bf7-8b93-4aee-8a60-639d643ba721",
   "metadata": {},
   "outputs": [],
   "source": [
    "#Program to demonstrate string cocatenation\n",
    "str1 = \"Hello\"\n",
    "str2 = \"World\"\n"
   ]
  }
 ],
 "metadata": {
  "kernelspec": {
   "display_name": "Python 3 (ipykernel)",
   "language": "python",
   "name": "python3"
  },
  "language_info": {
   "codemirror_mode": {
    "name": "ipython",
    "version": 3
   },
   "file_extension": ".py",
   "mimetype": "text/x-python",
   "name": "python",
   "nbconvert_exporter": "python",
   "pygments_lexer": "ipython3",
   "version": "3.12.5"
  }
 },
 "nbformat": 4,
 "nbformat_minor": 5
}
