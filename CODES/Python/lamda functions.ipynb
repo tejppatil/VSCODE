{
 "cells": [
  {
   "cell_type": "markdown",
   "id": "0f0a516b-0ea0-4ba2-8ff1-b2954932ee35",
   "metadata": {},
   "source": [
    "lambda arguments: expression"
   ]
  },
  {
   "cell_type": "code",
   "execution_count": 2,
   "id": "e2f93955-7320-4196-90f0-0dfe969f1b79",
   "metadata": {},
   "outputs": [
    {
     "name": "stdout",
     "output_type": "stream",
     "text": [
      "25\n"
     ]
    }
   ],
   "source": [
    "square=lambda x: x**2\n",
    "#using the lambda function\n",
    "print(square(5))"
   ]
  },
  {
   "cell_type": "code",
   "execution_count": 3,
   "id": "1548686a-474e-4425-b589-5b6d3f5ce525",
   "metadata": {},
   "outputs": [
    {
     "name": "stdout",
     "output_type": "stream",
     "text": [
      "<map object at 0x0000018001F7B520>\n",
      "[5, 6, 6]\n"
     ]
    }
   ],
   "source": [
    "#map() function\n",
    "def myfunc(a):\n",
    "    return len(a)\n",
    "x=map(myfunc,('apple','banana','cherry'))\n",
    "print(x)\n",
    "#convert the map into a list, for readability\n",
    "print(list(x))"
   ]
  },
  {
   "cell_type": "code",
   "execution_count": 5,
   "id": "cda2fd78-65cc-414d-b743-c29eedfea716",
   "metadata": {},
   "outputs": [
    {
     "name": "stdout",
     "output_type": "stream",
     "text": [
      "<map object at 0x0000018001F797B0>\n",
      "['appleorange', 'bananalemon', 'cherrypineapple']\n"
     ]
    }
   ],
   "source": [
    "def myfunc(a,b):\n",
    "    return a+b\n",
    "x=map(myfunc,('apple','banana','cherry'),('orange','lemon','pineapple'))\n",
    "print(x)\n",
    "#convert the map into a list, for readability\n",
    "print(list(x))"
   ]
  },
  {
   "cell_type": "code",
   "execution_count": 6,
   "id": "278a6173-de7f-4a22-b171-c503642b1ae1",
   "metadata": {},
   "outputs": [
    {
     "name": "stdout",
     "output_type": "stream",
     "text": [
      "[2, 4, 6, 8]\n"
     ]
    }
   ],
   "source": [
    "a=[1,2,3,4]\n",
    "#using custom function in \"function\" parameter \n",
    "#this functiions is simply doubles the provided number\n",
    "def double(val):\n",
    "    return val*2\n",
    "res=list(map(double,a))\n",
    "print(res)"
   ]
  },
  {
   "cell_type": "code",
   "execution_count": 1,
   "id": "13ca5f06-7875-49cd-b86a-42517a8cfa53",
   "metadata": {},
   "outputs": [
    {
     "name": "stdout",
     "output_type": "stream",
     "text": [
      "[1, 4, 9, 16, 25]\n"
     ]
    }
   ],
   "source": [
    "#using lambda with map\n",
    "numbers=[1,2,3,4,5]\n",
    "squared_numbers=map(lambda x: x**2,numbers)\n",
    "print(list(squared_numbers))"
   ]
  },
  {
   "cell_type": "code",
   "execution_count": 3,
   "id": "64112650-ceda-4e44-b767-f263539300c8",
   "metadata": {},
   "outputs": [
    {
     "name": "stdin",
     "output_type": "stream",
     "text": [
      "Enter your Name:  Tejas\n"
     ]
    },
    {
     "name": "stdout",
     "output_type": "stream",
     "text": [
      "TEJAS\n"
     ]
    }
   ],
   "source": [
    "#Example: Uppercase conversion\n",
    "\n",
    "str1 = input(\"Enter your Name: \")\n",
    "upper = lambda string: string.upper()\n",
    "print(upper(str1))"
   ]
  },
  {
   "cell_type": "code",
   "execution_count": 2,
   "id": "052d84c3-dec0-40c2-80c5-80af8f1a05de",
   "metadata": {},
   "outputs": [
    {
     "name": "stdout",
     "output_type": "stream",
     "text": [
      "Using 'def' keyword, cube: 125\n",
      "Using lambda function, cube: 125\n"
     ]
    }
   ],
   "source": [
    "def cube(y):\n",
    "    return y*y*y\n",
    "lambda_cube=lambda y:y*y*y\n",
    "print(\"Using 'def' keyword, cube:\",cube(5))\n",
    "print(\"Using lambda function, cube:\",lambda_cube(5))"
   ]
  },
  {
   "cell_type": "code",
   "execution_count": 6,
   "id": "5a53c301-a079-4782-a210-7d91eab7d8eb",
   "metadata": {},
   "outputs": [
    {
     "name": "stdout",
     "output_type": "stream",
     "text": [
      "Sorted list:\n",
      "[1, 2, 3, 4, 5]\n",
      "The original list after sorting:\n",
      "[1, 5, 4, 2, 3]\n",
      "Sort list:\n",
      "[1, 2, 3, 4, 5]\n"
     ]
    }
   ],
   "source": [
    "L=[1,5,4,2,3]\n",
    "print(\"Sorted list:\")\n",
    "a=sorted(L)\n",
    "print(a)\n",
    "#print the original list\n",
    "print(\"The original list after sorting:\")\n",
    "print(L)\n",
    "print(\"Sort list:\")\n",
    "L.sort()\n",
    "print(L)"
   ]
  },
  {
   "cell_type": "code",
   "execution_count": 7,
   "id": "11f25f95-dd6f-4faf-9dde-0462eb1ea539",
   "metadata": {},
   "outputs": [
    {
     "name": "stdout",
     "output_type": "stream",
     "text": [
      "[(1, 5), (3, 10), (2, 80)]\n"
     ]
    }
   ],
   "source": [
    "#sortinhg a list of tuples by second element\n",
    "data=[(3,10),(1,5),(2,80)]\n",
    "sorted_data=sorted(data,key=lambda x:x[1])\n",
    "print(sorted_data)"
   ]
  },
  {
   "cell_type": "code",
   "execution_count": 8,
   "id": "155f04a9-93f7-4ee7-9b76-ed15873381b5",
   "metadata": {},
   "outputs": [
    {
     "name": "stdout",
     "output_type": "stream",
     "text": [
      "Factorial of 5: 120\n"
     ]
    }
   ],
   "source": [
    "#calculating factorials using recursion\n",
    "factorial=lambda n:1 if n==1 else n*factorial(n-1)\n",
    "print(\"Factorial of 5:\",factorial(5))"
   ]
  },
  {
   "cell_type": "code",
   "execution_count": 10,
   "id": "99ce0b51-7640-462a-a283-344c8fda44a2",
   "metadata": {},
   "outputs": [
    {
     "name": "stdout",
     "output_type": "stream",
     "text": [
      "[10, 7, 10]\n"
     ]
    }
   ],
   "source": [
    "def myfunc(n):\n",
    "    return len(n)\n",
    "#the map() function executes a specified function for each iteam in an iterable.The item is sent to the \n",
    "x=list(map(myfunc,(\"Rashtriya \",\"Raksha \",\"University\")))\n",
    "print(x)"
   ]
  },
  {
   "cell_type": "code",
   "execution_count": 14,
   "id": "3e9fcd86-234e-4ae0-b544-cde20d871251",
   "metadata": {},
   "outputs": [
    {
     "name": "stdout",
     "output_type": "stream",
     "text": [
      "<filter object at 0x0000014844E29C30>\n",
      "18\n",
      "24\n",
      "32\n"
     ]
    }
   ],
   "source": [
    "ages=[5,12,17,18,24,32]\n",
    "def myfunc(x):\n",
    "    if x < 18:\n",
    "        return False\n",
    "    else:\n",
    "        return True\n",
    "adults=filter(myfunc,ages)\n",
    "#filter(function,iterable)\n",
    "#the filter() functyion return an iterator where the items are filtered through a \n",
    "#function to test if the item is accepted or not\n",
    "print(adults)\n",
    "for x in adults:\n",
    "    print(x)"
   ]
  },
  {
   "cell_type": "code",
   "execution_count": 15,
   "id": "af127e21-a436-4c0a-b757-3feff2fd7e30",
   "metadata": {},
   "outputs": [
    {
     "name": "stdout",
     "output_type": "stream",
     "text": [
      "[2, 4, 6, 8, 10]\n"
     ]
    }
   ],
   "source": [
    "#list of numbers \n",
    "numbers=[1,2,3,4,5,6,7,8,9,10]\n",
    "#use filter() with lambda to filter even numbers\n",
    "even_numbers=list(filter(lambda x:x%2==0,numbers))\n",
    "print(even_numbers)"
   ]
  },
  {
   "cell_type": "code",
   "execution_count": 27,
   "id": "4da2d870-afb7-4f6c-9384-a255ab798c22",
   "metadata": {},
   "outputs": [
    {
     "name": "stdin",
     "output_type": "stream",
     "text": [
      "Enter the number:  5\n"
     ]
    },
    {
     "name": "stdout",
     "output_type": "stream",
     "text": [
      "5\n"
     ]
    }
   ],
   "source": [
    "#n fibonacci number\n",
    "def fib(n):\n",
    "    if n <= 1:\n",
    "        return n\n",
    "    else:\n",
    "        return fib(n - 1) + fib(n - 2)\n",
    "\n",
    "n = int(input(\"Enter the number: \"))\n",
    "x = fib(n)\n",
    "print(x)\n"
   ]
  },
  {
   "cell_type": "code",
   "execution_count": null,
   "id": "11b19230-4ce2-4d38-a971-b89ca6d89ad2",
   "metadata": {},
   "outputs": [],
   "source": []
  }
 ],
 "metadata": {
  "kernelspec": {
   "display_name": "Python 3 (ipykernel)",
   "language": "python",
   "name": "python3"
  },
  "language_info": {
   "codemirror_mode": {
    "name": "ipython",
    "version": 3
   },
   "file_extension": ".py",
   "mimetype": "text/x-python",
   "name": "python",
   "nbconvert_exporter": "python",
   "pygments_lexer": "ipython3",
   "version": "3.12.5"
  }
 },
 "nbformat": 4,
 "nbformat_minor": 5
}
