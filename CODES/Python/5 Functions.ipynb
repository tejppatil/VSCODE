{
 "cells": [
  {
   "cell_type": "code",
   "execution_count": 1,
   "id": "1bcb7769-b5c5-403f-b283-97f2aefc7a03",
   "metadata": {},
   "outputs": [],
   "source": [
    "def my_function():\n",
    "    print(\"Hello from a function\")"
   ]
  },
  {
   "cell_type": "code",
   "execution_count": 2,
   "id": "33247a5a-0e31-4ea4-88dc-09e54bcc9b29",
   "metadata": {},
   "outputs": [
    {
     "name": "stdout",
     "output_type": "stream",
     "text": [
      "Hello from a function\n"
     ]
    }
   ],
   "source": [
    "my_function()"
   ]
  },
  {
   "cell_type": "code",
   "execution_count": 7,
   "id": "a6060897-d9ad-41e1-9082-47275c732c80",
   "metadata": {},
   "outputs": [
    {
     "name": "stdout",
     "output_type": "stream",
     "text": [
      "Emil Refsnes\n",
      "Tobias Refsnes\n",
      "Linus Refsnes\n"
     ]
    }
   ],
   "source": [
    "def my_function(fname):\n",
    "    print(fname+\" Refsnes\")\n",
    "\n",
    "my_function(\"Emil\")\n",
    "my_function(\"Tobias\")\n",
    "my_function(\"Linus\")"
   ]
  },
  {
   "cell_type": "code",
   "execution_count": 9,
   "id": "3cd4de9a-f484-48c5-94b3-6a334530998b",
   "metadata": {},
   "outputs": [
    {
     "name": "stdout",
     "output_type": "stream",
     "text": [
      "('Emil', 'Tobias', 'Linus')\n",
      "Emil\n",
      "Tobias\n",
      "Linus\n"
     ]
    }
   ],
   "source": [
    "#Arbitary Arguments,*args\n",
    "def my_function(*kids):\n",
    "    print(kids)\n",
    "    for i in kids:\n",
    "        print(i)\n",
    "my_function(\"Emil\",\"Tobias\",\"Linus\")"
   ]
  },
  {
   "cell_type": "code",
   "execution_count": 11,
   "id": "657a3e5b-3ad4-422e-9bb1-bd28ed75ec46",
   "metadata": {},
   "outputs": [
    {
     "name": "stdout",
     "output_type": "stream",
     "text": [
      "The youngest child is Linus\n"
     ]
    }
   ],
   "source": [
    "#Keyword Argument\n",
    "def my_function(child3,child2,child1):\n",
    "    print(\"The youngest child is \"+child3)\n",
    "my_function(child1=\"Emil\",child2=\"Tobias\",child3=\"Linus\")"
   ]
  },
  {
   "cell_type": "code",
   "execution_count": 15,
   "id": "e5651c04-7f6f-490f-ad09-0d7f91d10fe2",
   "metadata": {},
   "outputs": [
    {
     "name": "stdout",
     "output_type": "stream",
     "text": [
      "I am from Sweden\n",
      "I am from India\n",
      "I am from Norway\n",
      "I am from Brazil\n"
     ]
    }
   ],
   "source": [
    "#default parameter\n",
    "def my_function(country=\"Norway\"):\n",
    "    print(\"I am from \"+country)\n",
    "my_function(\"Sweden\")\n",
    "my_function(\"India\")\n",
    "my_function()\n",
    "my_function(\"Brazil\")"
   ]
  },
  {
   "cell_type": "code",
   "execution_count": 16,
   "id": "bd596863-3b4a-484d-91cf-063653df28ae",
   "metadata": {},
   "outputs": [],
   "source": [
    "#passing a list as an argument\n",
    "def my_function(food):\n",
    "    for x in food:\n",
    "        print(x)"
   ]
  },
  {
   "cell_type": "code",
   "execution_count": 17,
   "id": "b0f531fa-3645-4525-830e-c2886adce270",
   "metadata": {},
   "outputs": [
    {
     "name": "stdout",
     "output_type": "stream",
     "text": [
      "apple\n",
      "banana\n",
      "cherry\n"
     ]
    }
   ],
   "source": [
    "fruits=[\"apple\",\"banana\",\"cherry\"]\n",
    "my_function(fruits)"
   ]
  },
  {
   "cell_type": "code",
   "execution_count": 18,
   "id": "65d5b0ca-ed3c-4f95-a664-c51b53cd0d91",
   "metadata": {},
   "outputs": [],
   "source": [
    "#return values\n",
    "def my_function(x):\n",
    "    return 5*x"
   ]
  },
  {
   "cell_type": "code",
   "execution_count": 19,
   "id": "18c8372d-db97-4d3b-8270-343ebf3c0f0b",
   "metadata": {},
   "outputs": [
    {
     "name": "stdout",
     "output_type": "stream",
     "text": [
      "15\n",
      "25\n",
      "45\n"
     ]
    }
   ],
   "source": [
    "print(my_function(3))\n",
    "print(my_function(5))\n",
    "print(my_function(9))"
   ]
  },
  {
   "cell_type": "code",
   "execution_count": 20,
   "id": "530349c5-f12d-42d9-82ea-adcfdd0da140",
   "metadata": {},
   "outputs": [],
   "source": [
    "#cube of given numbers\n",
    "def cube(x):\n",
    "    return x*x*x"
   ]
  },
  {
   "cell_type": "code",
   "execution_count": 21,
   "id": "32f0e1c3-a430-49d4-966b-6c43a653d51f",
   "metadata": {},
   "outputs": [
    {
     "name": "stdout",
     "output_type": "stream",
     "text": [
      "343\n"
     ]
    }
   ],
   "source": [
    "print(cube(7))"
   ]
  },
  {
   "cell_type": "code",
   "execution_count": 26,
   "id": "79d09838-3a84-47da-9989-2ddfc4403041",
   "metadata": {},
   "outputs": [],
   "source": [
    "#recursive functions in python\n",
    "#factorial\n",
    "def fact(a):\n",
    "    if a==1:\n",
    "        return 1\n",
    "    else:\n",
    "        return a*fact(a-1)"
   ]
  },
  {
   "cell_type": "code",
   "execution_count": 28,
   "id": "076b8545-6000-4a96-94b3-343dc5da0136",
   "metadata": {},
   "outputs": [
    {
     "name": "stdin",
     "output_type": "stream",
     "text": [
      "asdf 12\n"
     ]
    },
    {
     "data": {
      "text/plain": [
       "479001600"
      ]
     },
     "execution_count": 28,
     "metadata": {},
     "output_type": "execute_result"
    }
   ],
   "source": [
    "x=int(input(\"asdf\"))\n",
    "fact(x)"
   ]
  },
  {
   "cell_type": "code",
   "execution_count": 35,
   "id": "16db818d-1739-4e55-aaa1-ada7b925f559",
   "metadata": {},
   "outputs": [],
   "source": [
    "def swap(x,y):\n",
    "    temp=x\n",
    "    x=y\n",
    "    y=temp\n",
    "    return x,y"
   ]
  },
  {
   "cell_type": "code",
   "execution_count": 36,
   "id": "8497c25d-757e-43fe-904d-59f39c83e152",
   "metadata": {},
   "outputs": [
    {
     "name": "stdout",
     "output_type": "stream",
     "text": [
      "2\n",
      "3\n"
     ]
    }
   ],
   "source": [
    "x=2\n",
    "y=3\n",
    "swap(x,y)\n",
    "print(x)\n",
    "print(y)"
   ]
  },
  {
   "cell_type": "code",
   "execution_count": 37,
   "id": "f67b63f9-eaf2-428c-a2a4-e81a0255a867",
   "metadata": {},
   "outputs": [
    {
     "name": "stdout",
     "output_type": "stream",
     "text": [
      "(3, 2)\n"
     ]
    }
   ],
   "source": [
    "print(swap(x,y))"
   ]
  }
 ],
 "metadata": {
  "kernelspec": {
   "display_name": "Python 3 (ipykernel)",
   "language": "python",
   "name": "python3"
  },
  "language_info": {
   "codemirror_mode": {
    "name": "ipython",
    "version": 3
   },
   "file_extension": ".py",
   "mimetype": "text/x-python",
   "name": "python",
   "nbconvert_exporter": "python",
   "pygments_lexer": "ipython3",
   "version": "3.12.5"
  }
 },
 "nbformat": 4,
 "nbformat_minor": 5
}
