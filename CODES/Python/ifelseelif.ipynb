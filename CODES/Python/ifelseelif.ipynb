{
 "cells": [
  {
   "cell_type": "markdown",
   "id": "d9eb0d73-e2fb-4e2d-ab9b-910bdcd2ce8f",
   "metadata": {},
   "source": [
    "Python\n",
    "1. The if Statement\n",
    "The if statement is used to execute a block of code if a given condition evaluates to True. Here's the basic syntax:\n",
    "if condition:\n",
    "#Code to execute if the condition is True"
   ]
  },
  {
   "cell_type": "code",
   "execution_count": 4,
   "id": "e1a9c2c1-3f9e-4fa3-b95a-79bf7931066e",
   "metadata": {},
   "outputs": [
    {
     "name": "stdout",
     "output_type": "stream",
     "text": [
      "Price is less than 100\n"
     ]
    }
   ],
   "source": [
    "price = 50\n",
    "if price < 100:\n",
    "    print(\"Price is less than 100\")"
   ]
  },
  {
   "cell_type": "code",
   "execution_count": 7,
   "id": "83c4d16a-3321-4ede-901e-053d1710bdf4",
   "metadata": {},
   "outputs": [
    {
     "name": "stdout",
     "output_type": "stream",
     "text": [
      "Price*quantity is less than 500\n",
      "Price= 50\n",
      "Quantity= 5\n",
      "No if block executed.\n"
     ]
    }
   ],
   "source": [
    "price = 50\n",
    "quantity = 5\n",
    "if price*quantity < 500:\n",
    "    print(\"Price*quantity is less than 500\")\n",
    "    print(\"Price=\",price)\n",
    "    print(\"Quantity=\",quantity)\n",
    "print(\"No if block executed.\")"
   ]
  },
  {
   "cell_type": "code",
   "execution_count": 8,
   "id": "07f40b9e-9ed9-4323-bf98-b143370e6dc1",
   "metadata": {},
   "outputs": [
    {
     "name": "stdout",
     "output_type": "stream",
     "text": [
      "Price is less than 100\n"
     ]
    }
   ],
   "source": [
    "price = 50\n",
    "if price > 100:\n",
    "    print(\"Price is greater than 100\")\n",
    "elif price == 100:\n",
    "    print(\"Price is 100\")\n",
    "else:\n",
    "    print(\"Price is less than 100\")"
   ]
  },
  {
   "cell_type": "code",
   "execution_count": 9,
   "id": "0a6622b8-fd8b-4c47-af9e-5e9940b9e2ea",
   "metadata": {},
   "outputs": [
    {
     "name": "stdout",
     "output_type": "stream",
     "text": [
      "The petrson is a adult\n"
     ]
    }
   ],
   "source": [
    "#using conditional expressions 1(temporary operator)\n",
    "age=20\n",
    "status= \"minor\" if age<18 else \"adult\"  \n",
    "print(f\"The petrson is a {status}\")\n"
   ]
  },
  {
   "cell_type": "code",
   "execution_count": 10,
   "id": "7f0b4342-c879-4f1a-800c-e982eb49524b",
   "metadata": {},
   "outputs": [
    {
     "name": "stdout",
     "output_type": "stream",
     "text": [
      "Both conditions are satisfied\n"
     ]
    }
   ],
   "source": [
    "#combining condition with logical operatiors\n",
    "x=10\n",
    "y=20\n",
    "if(x>5 and y>15) or (x<5 and y<15):\n",
    "    print(\"Both conditions are satisfied\")\n",
    "else:\n",
    "    print(\"At least condition is not satisfied\")"
   ]
  },
  {
   "cell_type": "code",
   "execution_count": null,
   "id": "a31cd0a8-4e80-41d1-8edd-8a032ee088b7",
   "metadata": {},
   "outputs": [],
   "source": []
  }
 ],
 "metadata": {
  "kernelspec": {
   "display_name": "Python 3 (ipykernel)",
   "language": "python",
   "name": "python3"
  },
  "language_info": {
   "codemirror_mode": {
    "name": "ipython",
    "version": 3
   },
   "file_extension": ".py",
   "mimetype": "text/x-python",
   "name": "python",
   "nbconvert_exporter": "python",
   "pygments_lexer": "ipython3",
   "version": "3.12.5"
  }
 },
 "nbformat": 4,
 "nbformat_minor": 5
}
