{
 "cells": [
  {
   "cell_type": "raw",
   "id": "1c79170f-f618-48b0-ae82-28eac32e57f8",
   "metadata": {},
   "source": [
    "Stock Price Variation Tracker: Write a function track_price_variation that takes a list of daily stock prices and returns a list of tuples. Each tuple should contain the day number (starting from 0), the price for that day, and the difference in price from the previous day. For the first day, the difference can be listed as None."
   ]
  },
  {
   "cell_type": "code",
   "execution_count": 13,
   "id": "4ae3ca4b-b346-4306-9301-e787746f2893",
   "metadata": {},
   "outputs": [
    {
     "name": "stdin",
     "output_type": "stream",
     "text": [
      "Enter the number of days:  5\n",
      "Enter stock price for day 1:  215\n",
      "Enter stock price for day 2:  220\n",
      "Enter stock price for day 3:  214\n",
      "Enter stock price for day 4:  210\n",
      "Enter stock price for day 5:  216\n"
     ]
    },
    {
     "name": "stdout",
     "output_type": "stream",
     "text": [
      "\n",
      "Stock Price Variations:\n",
      "Day 0: Price = 215.0, Change = None\n",
      "Day 1: Price = 220.0, Change = 5.00\n",
      "Day 2: Price = 214.0, Change = -6.00\n",
      "Day 3: Price = 210.0, Change = -4.00\n",
      "Day 4: Price = 216.0, Change = 6.00\n"
     ]
    }
   ],
   "source": [
    "def track_price_variation(prices):\n",
    "    variations = []\n",
    "    for i in range(len(prices)):\n",
    "        if i == 0:\n",
    "            difference = None  \n",
    "        else:\n",
    "            difference = round(prices[i] - prices[i - 1], 2)\n",
    "        variations.append((i, prices[i], difference))\n",
    "    \n",
    "    print(\"\\nStock Price Variations:\")\n",
    "    for day, price, diff in variations:\n",
    "        if diff is None:\n",
    "            difference=\"None\"\n",
    "        else:\n",
    "            difference=f\"{diff:.2f}\"\n",
    "        print(f\"Day {day}: Price = {price}, Change = {difference}\")\n",
    "\n",
    "n = int(input(\"Enter the number of days: \"))\n",
    "prices = [float(input(f\"Enter stock price for day {i+1}: \")) for i in range(n)]\n",
    "track_price_variation(prices)"
   ]
  },
  {
   "cell_type": "raw",
   "id": "e15be308-5f93-4354-a055-b4d0392acbb0",
   "metadata": {},
   "source": [
    "Todo List Manager: Create a function manage Todo that takes a list of to-do items and a command (‘add’, ‘remove’, ‘complete’) and modifies the list based on the command."
   ]
  },
  {
   "cell_type": "code",
   "execution_count": 3,
   "id": "2914a4b6-18e9-45a6-8d33-5bacbd51bbaf",
   "metadata": {},
   "outputs": [
    {
     "name": "stdin",
     "output_type": "stream",
     "text": [
      "\n",
      "Enter the operation you want (add, remove, complete, exit):  eat\n"
     ]
    },
    {
     "name": "stdout",
     "output_type": "stream",
     "text": [
      "Enter a valid command >>>\n"
     ]
    },
    {
     "name": "stdin",
     "output_type": "stream",
     "text": [
      "\n",
      "Enter the operation you want (add, remove, complete, exit):  ADD\n",
      "Enter task you want to add:  eat\n"
     ]
    },
    {
     "name": "stdout",
     "output_type": "stream",
     "text": [
      "Task 'eat' added!\n"
     ]
    },
    {
     "name": "stdin",
     "output_type": "stream",
     "text": [
      "\n",
      "Enter the operation you want (add, remove, complete, exit):  add\n",
      "Enter task you want to add:  Sleep\n"
     ]
    },
    {
     "name": "stdout",
     "output_type": "stream",
     "text": [
      "Task 'Sleep' added!\n"
     ]
    },
    {
     "name": "stdin",
     "output_type": "stream",
     "text": [
      "\n",
      "Enter the operation you want (add, remove, complete, exit):  Add\n",
      "Enter task you want to add:  repeat\n"
     ]
    },
    {
     "name": "stdout",
     "output_type": "stream",
     "text": [
      "Task 'repeat' added!\n"
     ]
    },
    {
     "name": "stdin",
     "output_type": "stream",
     "text": [
      "\n",
      "Enter the operation you want (add, remove, complete, exit):  remove\n"
     ]
    },
    {
     "name": "stdout",
     "output_type": "stream",
     "text": [
      "Current tasks: ['eat', 'Sleep', 'repeat']\n"
     ]
    },
    {
     "name": "stdin",
     "output_type": "stream",
     "text": [
      "Enter task you want to remove:  eat\n"
     ]
    },
    {
     "name": "stdout",
     "output_type": "stream",
     "text": [
      "Task 'eat' removed!\n"
     ]
    },
    {
     "name": "stdin",
     "output_type": "stream",
     "text": [
      "\n",
      "Enter the operation you want (add, remove, complete, exit):  complete\n"
     ]
    },
    {
     "name": "stdout",
     "output_type": "stream",
     "text": [
      "Current tasks: ['Sleep', 'repeat']\n"
     ]
    },
    {
     "name": "stdin",
     "output_type": "stream",
     "text": [
      "\n",
      "Enter the operation you want (add, remove, complete, exit):  exit\n"
     ]
    },
    {
     "name": "stdout",
     "output_type": "stream",
     "text": [
      "Exiting To-Do List...\n"
     ]
    }
   ],
   "source": [
    "def todo(tasks):\n",
    "    while True:\n",
    "        command = input(\"\\nEnter the operation you want (add, remove, complete, exit): \").lower()\n",
    "        \n",
    "        if command == 'add':\n",
    "            add = input(\"Enter task you want to add: \")\n",
    "            tasks.append(add)\n",
    "            print(f\"Task '{add}' added!\")\n",
    "\n",
    "        elif command == 'remove':\n",
    "            if tasks:\n",
    "                print(\"Current tasks:\", tasks)\n",
    "                remove = input(\"Enter task you want to remove: \")\n",
    "                if remove in tasks:\n",
    "                    tasks.remove(remove)\n",
    "                    print(f\"Task '{remove}' removed!\")\n",
    "                else:\n",
    "                    print(\"Task not found!\")\n",
    "            else:\n",
    "                print(\"No tasks to remove.\")\n",
    "\n",
    "        elif command == 'complete':\n",
    "            print(\"Current tasks:\", tasks)\n",
    "\n",
    "        elif command == 'exit':\n",
    "            print(\"Exiting To-Do List...\")\n",
    "            break\n",
    "\n",
    "        else:\n",
    "            print(\"Enter a valid command >>>\")\n",
    "\n",
    "n = []\n",
    "todo(n)"
   ]
  },
  {
   "cell_type": "raw",
   "id": "69a462c7-f565-43ab-a093-abb67ddb4be5",
   "metadata": {},
   "source": [
    "Book Collection Sorter: Write a function to sort books. It should take a list of book titles and sort them by the length of the title, with the shortest title first."
   ]
  },
  {
   "cell_type": "code",
   "execution_count": 13,
   "id": "f962457f-2ba2-47bd-abbb-a3a6c0d1b7bf",
   "metadata": {},
   "outputs": [
    {
     "name": "stdin",
     "output_type": "stream",
     "text": [
      "Enter the number of books: 5\n",
      "Enter the name of book 1:  The Catcher in the Rye – J.D. Salinger\n",
      "Enter the name of book 2:  Gone Girl – Gillian Flynn\n",
      "Enter the name of book 3:  The Girl with the Dragon Tattoo – Stieg Larsson\n",
      "Enter the name of book 4:  The Silent Patient – Alex Michaelides\n",
      "Enter the name of book 5:  Harry Potter and the Sorcerer’s Stone – J.K. Rowling\n"
     ]
    },
    {
     "name": "stdout",
     "output_type": "stream",
     "text": [
      "\n",
      "Sorted List of books:\n",
      "1.Gone Girl – Gillian Flynn\n",
      "2.The Silent Patient – Alex Michaelides\n",
      "3.The Catcher in the Rye – J.D. Salinger\n",
      "4.The Girl with the Dragon Tattoo – Stieg Larsson\n",
      "5.Harry Potter and the Sorcerer’s Stone – J.K. Rowling\n"
     ]
    }
   ],
   "source": [
    "def sort_books(books):\n",
    "    books.sort(key=len)\n",
    "    print(\"\\nSorted List of books:\")\n",
    "    for i in range(len(books)):\n",
    "        print(f'{i+1}.{books[i]}')\n",
    "n=int(input(\"Enter the number of books:\"))\n",
    "book=[]\n",
    "for i in range(n):\n",
    "    book.append(input(f\"Enter the name of book {i+1}: \"))\n",
    "sort_books(book)"
   ]
  },
  {
   "cell_type": "raw",
   "id": "e8817d6d-e6ea-4af4-9fbd-e3d7ce491d39",
   "metadata": {},
   "source": [
    "Duplicate Finder: Implement a function to find duplicates that take a list of numbers and returns a list of all numbers that appear more than once."
   ]
  },
  {
   "cell_type": "code",
   "execution_count": 8,
   "id": "ccf2b1d2-5e93-4200-88c6-f694c76bb34a",
   "metadata": {},
   "outputs": [
    {
     "name": "stdin",
     "output_type": "stream",
     "text": [
      "Enter the number of elements:  10\n",
      "Enter number 1:  1\n",
      "Enter number 2:  2\n",
      "Enter number 3:  3\n",
      "Enter number 4:  2\n",
      "Enter number 5:  5\n",
      "Enter number 6:  5\n",
      "Enter number 7:  2\n",
      "Enter number 8:  6\n",
      "Enter number 9:  2\n",
      "Enter number 10:  3\n"
     ]
    },
    {
     "name": "stdout",
     "output_type": "stream",
     "text": [
      "\n",
      "List of duplicate numbers:\n",
      "1) 2\n",
      "2) 5\n",
      "3) 3\n"
     ]
    }
   ],
   "source": [
    "def duplicates(nums):\n",
    "    duplicate = []\n",
    "    seen = set()\n",
    "    \n",
    "    for num in nums:\n",
    "        if num in seen and num not in duplicate:\n",
    "            duplicate.append(num)\n",
    "        else:\n",
    "            seen.add(num)\n",
    "\n",
    "    print(\"\\nList of duplicate numbers:\")\n",
    "    for i, num in enumerate(duplicate, 1):\n",
    "        print(f\"{i}) {num}\")\n",
    "\n",
    "n = int(input(\"Enter the number of elements: \"))\n",
    "numbers = []\n",
    "for i in range(n):\n",
    "    numbers.append(int(input(f\"Enter number {i+1}: \")))\n",
    "duplicates(numbers)"
   ]
  },
  {
   "cell_type": "raw",
   "id": "e47b328c-5f9a-4632-87aa-efde77c0ca07",
   "metadata": {},
   "source": [
    "Data Normalizer: Write a function to normalize data that takes a list of numbers and normalizes them so that the numbers range from 0 to 1 (inclusive).\n",
    "XNew = (X - X_min) / (X_max - X_min)"
   ]
  },
  {
   "cell_type": "code",
   "execution_count": 4,
   "id": "8427b270-6527-4dca-847d-3db23b6bdd60",
   "metadata": {},
   "outputs": [
    {
     "name": "stdin",
     "output_type": "stream",
     "text": [
      "Enter the number of elements:  5\n",
      "Enter number 1:  5\n",
      "Enter number 2:  6\n",
      "Enter number 3:  8\n",
      "Enter number 4:  9\n",
      "Enter number 5:  7\n"
     ]
    },
    {
     "name": "stdout",
     "output_type": "stream",
     "text": [
      "\n",
      "Normalized Data:\n",
      "1. 0.00\n",
      "2. 0.25\n",
      "3. 0.75\n",
      "4. 1.00\n",
      "5. 0.50\n"
     ]
    }
   ],
   "source": [
    "def normalize_data(nums):\n",
    "    X_min = min(nums)\n",
    "    X_max = max(nums)\n",
    "    normalized = [(x - X_min) / (X_max - X_min) if X_max != X_min else 0 for x in nums]\n",
    "    print(\"\\nNormalized Data:\")\n",
    "    for i, num in enumerate(normalized, 1):\n",
    "        print(f\"{i}. {num:.2f}\")\n",
    "n = int(input(\"Enter the number of elements: \"))\n",
    "data = [float(input(f\"Enter number {i+1}: \")) for i in range(n)]\n",
    "normalize_data(data)"
   ]
  },
  {
   "cell_type": "raw",
   "id": "0b254421-2d68-4733-afeb-5dde6f8416f0",
   "metadata": {},
   "source": [
    "Reversing a Sentence: You are building a text editor application, and one of the features you want to implement is sentence reversal.\n",
    "Ex:\n",
    "Input : hello python.\n",
    "Output: olleh .nohtyp"
   ]
  },
  {
   "cell_type": "code",
   "execution_count": 2,
   "id": "35c924be-866e-4146-9af5-68520f8beca3",
   "metadata": {},
   "outputs": [
    {
     "name": "stdout",
     "output_type": "stream",
     "text": [
      "<<<Welcome to the Text Editor>>>\n"
     ]
    },
    {
     "name": "stdin",
     "output_type": "stream",
     "text": [
      "Enter a sentence for its reversa0l:  hello python.\n"
     ]
    },
    {
     "name": "stdout",
     "output_type": "stream",
     "text": [
      "olleh .nohtyp\n"
     ]
    }
   ],
   "source": [
    "def editor(para):\n",
    "    rev=para[::-1]\n",
    "    spi=rev.split()\n",
    "    rev1=spi[::-1]\n",
    "    join=' '.join(rev1)\n",
    "    return join        \n",
    "print(\"<<<Welcome to the Text Editor>>>\")\n",
    "paragraph=input(\"Enter a sentence for its reversa0l: \")\n",
    "print(editor(paragraph))"
   ]
  }
 ],
 "metadata": {
  "kernelspec": {
   "display_name": "Python 3 (ipykernel)",
   "language": "python",
   "name": "python3"
  },
  "language_info": {
   "codemirror_mode": {
    "name": "ipython",
    "version": 3
   },
   "file_extension": ".py",
   "mimetype": "text/x-python",
   "name": "python",
   "nbconvert_exporter": "python",
   "pygments_lexer": "ipython3",
   "version": "3.12.5"
  }
 },
 "nbformat": 4,
 "nbformat_minor": 5
}
