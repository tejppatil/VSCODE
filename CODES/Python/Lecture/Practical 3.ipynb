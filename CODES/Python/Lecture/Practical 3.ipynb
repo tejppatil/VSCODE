{
 "cells": [
  {
   "cell_type": "markdown",
   "id": "b5b8a522-4586-4d21-9cad-485fecb3b0f0",
   "metadata": {},
   "source": [
    "You are building an e-commerce website, and you need to keep track of items in a user’s shopping cart. Implement the following:\n",
    "·        Create an empty list called shopping_cart.\n",
    "·        Allow the user to add items (product names) to the cart.\n",
    "·        Display the current items in the cart.\n",
    "·        Allow the user to remove items from the cart.\n",
    "·        Calculate the total number of items in the cart."
   ]
  },
  {
   "cell_type": "code",
   "execution_count": 4,
   "id": "a9124ece-d201-4584-9492-13bfcbfd2d9f",
   "metadata": {},
   "outputs": [
    {
     "name": "stdout",
     "output_type": "stream",
     "text": [
      "---Shopping Cart---\n",
      "1.Add New Item in the Cart\n",
      "2.View the current item in Cart\n",
      "3.Remove Item from the cart\n",
      "4.View all the items in cart\n",
      "5.Exit\n",
      "\n"
     ]
    },
    {
     "name": "stdin",
     "output_type": "stream",
     "text": [
      "Enter the Valid Choice: 2\n"
     ]
    },
    {
     "name": "stdout",
     "output_type": "stream",
     "text": [
      "\n",
      "::::Displaying the current item in the cart::::\n",
      "The  cart is empty.\n",
      "\n",
      "1.Add New Item in the Cart\n",
      "2.View the current item in Cart\n",
      "3.Remove Item from the cart\n",
      "4.View all the items in cart\n",
      "5.Exit\n",
      "\n"
     ]
    },
    {
     "name": "stdin",
     "output_type": "stream",
     "text": [
      "Enter the Valid Choice: 2\n"
     ]
    },
    {
     "name": "stdout",
     "output_type": "stream",
     "text": [
      "\n",
      "::::Displaying the current item in the cart::::\n",
      "The  cart is empty.\n",
      "\n",
      "1.Add New Item in the Cart\n",
      "2.View the current item in Cart\n",
      "3.Remove Item from the cart\n",
      "4.View all the items in cart\n",
      "5.Exit\n",
      "\n"
     ]
    },
    {
     "name": "stdin",
     "output_type": "stream",
     "text": [
      "Enter the Valid Choice: 5\n"
     ]
    },
    {
     "name": "stdout",
     "output_type": "stream",
     "text": [
      "\n",
      "Exiting the program. Thank you!\n"
     ]
    }
   ],
   "source": [
    "shopping_cart = []\n",
    "print(\"---Shopping Cart---\")\n",
    "while True:\n",
    "    print(\"1.Add New Item in the Cart\\n2.View the current item in Cart\\n3.Remove Item from the cart\\n4.View all the items in cart\\n5.Exit\\n\")\n",
    "    n=int(input(\"Enter the Valid Choice:\"))\n",
    "    if n==1:\n",
    "        print(\"\\n::::Add the new item in the cart::::\")\n",
    "        num_items = int(input(\"Enter the number of items you want to add to the cart: \"))\n",
    "        for i in range(num_items):\n",
    "            item = input(f\"Enter the name of item {i + 1}: \")\n",
    "            shopping_cart.append(item)\n",
    "        print(f\"{num_items} number of items added to cart.\")\n",
    "    \n",
    "    elif n==2:\n",
    "        print(\"\\n::::Displaying the current item in the cart::::\")\n",
    "        if shopping_cart:\n",
    "            print(\"The item that you added last in the cart is: \", shopping_cart)\n",
    "        else:\n",
    "            print(\"The  cart is empty.\\n\")\n",
    "    elif n==3:\n",
    "        if shopping_cart:\n",
    "            new = input(\"Do you want to remove any item (Yes or No): \")\n",
    "            if new.lower() == \"yes\":\n",
    "                n = input(\"Enter the item name to remove: \")\n",
    "                if n in shopping_cart:\n",
    "                    shopping_cart.remove(n)\n",
    "                    print(f\"The item '{n}' has been removed.\")\n",
    "                else:\n",
    "                    print(f\"Enter the valid item name.\")\n",
    "            else:\n",
    "                print(\"No item is removed.\")\n",
    "        else:\n",
    "            print(\"The Cart is empty, no item to remove\\n\")\n",
    "    \n",
    "    elif n==4:\n",
    "        if shopping_cart:\n",
    "            count=0\n",
    "            print(\"\\n::::Displaying the total number of items in the cart::::\")\n",
    "            for i, item in enumerate(shopping_cart, start=1):\n",
    "                print(f\"{i}. {item}\")\n",
    "        else:\n",
    "            print(\"The Cart is empty\\n\")\n",
    "    \n",
    "    elif n == 5:  \n",
    "            print(\"\\nExiting the program. Thank you!\")\n",
    "            break\n",
    "        \n",
    "    else:\n",
    "        print(\"\\nInvalid choice. Please try again.\")"
   ]
  },
  {
   "cell_type": "markdown",
   "id": "e4aef53b-e12e-4d0f-ae83-fed3a61c77ab",
   "metadata": {},
   "source": [
    "You are building a student management system. Implement the following:\n",
    "·        Create a dictionary called student_records where each key is a student ID (e.g., roll number) and the student’s name, age, and grade value.\n",
    "·        Allow the user to add new student records.\n",
    "·        Display the details of a specific student given their ID."
   ]
  },
  {
   "cell_type": "code",
   "execution_count": 3,
   "id": "e2843a16-cc80-4e4a-a880-b31632d538af",
   "metadata": {},
   "outputs": [
    {
     "name": "stdin",
     "output_type": "stream",
     "text": [
      "Enter number of student records you want to enter:  2\n",
      "Enter student ID:  230031101611001\n",
      "Enter student name:  sxdfg\n",
      "Enter student age:  23\n",
      "Enter student grade value:  5.5\n",
      "Enter student ID:  230031101611002\n",
      "Enter student name:  asdf\n",
      "Enter student age:  23\n",
      "Enter student grade value:  6.5\n",
      "Enter student ID of student you want to display:  230031101611001\n"
     ]
    },
    {
     "name": "stdout",
     "output_type": "stream",
     "text": [
      "ID: 230031101611001, Name: sxdfg, Age: 23, Grade: 5.5\n"
     ]
    }
   ],
   "source": [
    "stdRecords = dict(stdID = [], stdName = [], age = [], gradeValue = [])\n",
    "choice = int(input(\"Enter number of student records you want to enter: \"))\n",
    "for i in range (choice):\n",
    "    stdRecords ['stdID'].append(int(input(\"Enter student ID: \")))\n",
    "    stdRecords ['stdName'].append(input(\"Enter student name: \"))\n",
    "    stdRecords ['age'].append(int(input(\"Enter student age: \")))\n",
    "    stdRecords ['gradeValue'].append(input(\"Enter student grade value: \"))\n",
    "record = int(input(\"Enter student ID of student you want to display: \"))\n",
    "found = False\n",
    "for i in range (len(stdRecords['stdID'])):\n",
    "    if  stdRecords['stdID'][i] == record:\n",
    "        print(f\"ID: {stdRecords['stdID'][i]}, Name: {stdRecords['stdName'][i]}, Age: {stdRecords['age'][i]}, Grade: {stdRecords['gradeValue'][i]}\")\n",
    "        found = True\n",
    "        break\n",
    "if(found == False):\n",
    "    print(\"Student Record not found\")"
   ]
  },
  {
   "cell_type": "markdown",
   "id": "f13eb3ec-a635-4a84-a3e7-249644c6f56c",
   "metadata": {},
   "source": [
    "You are developing a weather monitoring system. Implement the following:\n",
    "·        Collect temperature data for different cities.\n",
    "·        Store each city’s data as a tuple containing its name and average temperature.\n",
    "·        Display the temperature data for all cities."
   ]
  },
  {
   "cell_type": "code",
   "execution_count": 4,
   "id": "45d64e24-a667-427d-a733-358a84605b1d",
   "metadata": {},
   "outputs": [
    {
     "name": "stdin",
     "output_type": "stream",
     "text": [
      "Enter the number of cities:  2\n",
      "Enter the city name:  Mumbai\n",
      "Enter the average temperature for Mumbai:  27\n",
      "Enter the city name:  Nagpur\n",
      "Enter the average temperature for Nagpur:  25\n"
     ]
    },
    {
     "name": "stdout",
     "output_type": "stream",
     "text": [
      "Temperature Data for All Cities:\n",
      "City: Mumbai, Average Temperature: 27.0°C\n",
      "City: Nagpur, Average Temperature: 25.0°C\n"
     ]
    }
   ],
   "source": [
    "cities = [] \n",
    "numberOfCities = int(input(\"Enter the number of cities: \"))\n",
    "for i in range(numberOfCities):\n",
    "    cityName = input(\"Enter the city name: \")\n",
    "    avgTemp = float(input(f\"Enter the average temperature for {cityName}: \"))\n",
    "    cityData = (cityName, avgTemp)\n",
    "    cities.append(cityData)\n",
    "print(\"Temperature Data for All Cities:\")\n",
    "for city, temperature in cities:\n",
    "    print(f\"City: {city}, Average Temperature: {temperature}°C\")"
   ]
  },
  {
   "cell_type": "code",
   "execution_count": null,
   "id": "04c8f3af-1f0f-40fd-bf32-dab183cdd9d3",
   "metadata": {},
   "outputs": [],
   "source": []
  }
 ],
 "metadata": {
  "kernelspec": {
   "display_name": "Python 3 (ipykernel)",
   "language": "python",
   "name": "python3"
  },
  "language_info": {
   "codemirror_mode": {
    "name": "ipython",
    "version": 3
   },
   "file_extension": ".py",
   "mimetype": "text/x-python",
   "name": "python",
   "nbconvert_exporter": "python",
   "pygments_lexer": "ipython3",
   "version": "3.12.5"
  }
 },
 "nbformat": 4,
 "nbformat_minor": 5
}
