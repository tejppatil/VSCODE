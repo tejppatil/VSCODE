{
 "cells": [
  {
   "cell_type": "markdown",
   "id": "03977059-8576-4587-b9bf-998dbc69ad0e",
   "metadata": {},
   "source": [
    "Problem statement:  You are working in a loan approval section of a bank; you need to create a Python script for \"printing loan approval or not\" from the following criteria. (AGE SHOULD BE GREATER THAN 18, SALARY SHOULD BE NO LESS THAN 4 LAKHS, AND CREDIT SCORE SHOULD BE NO LESS THAN 600)."
   ]
  },
  {
   "cell_type": "code",
   "execution_count": 4,
   "id": "7db76523-537f-4144-97d8-7e445e1ce99e",
   "metadata": {},
   "outputs": [
    {
     "name": "stdin",
     "output_type": "stream",
     "text": [
      "Enter Your Name:- Tejas\n",
      "Enter Your Age:- 19\n",
      "Enter Your Salary:- 400000\n",
      "Enter Your Creedit Score:- 650\n"
     ]
    },
    {
     "name": "stdout",
     "output_type": "stream",
     "text": [
      "Dear Tejas, Your Loan Is Approved\n"
     ]
    }
   ],
   "source": [
    "name=input(\"Enter Your Name:-\")\n",
    "age=int(input(\"Enter Your Age:-\"))\n",
    "salary=float(input(\"Enter Your Salary:-\"))\n",
    "c_score=int(input(\"Enter Your Creedit Score:-\"))\n",
    "if(age>18 and salary>=4,00,000 and c_score>=600):\n",
    "    print(f\"Dear {name}, Your Loan Is Approved\")\n",
    "else:\n",
    "    print(f\"Dear {name}, Your Loan is not Approved\")"
   ]
  },
  {
   "cell_type": "markdown",
   "id": "a05ec7d0-5bd8-4f13-a479-e150c42d5296",
   "metadata": {},
   "source": [
    "Problem statement:  you are working in a weather monitoring station. create a Python script to read temperature from the user and convert it from Celsius to Fahrenheit or vice versa after that print weather is frizzing, cold, moderate, or hot."
   ]
  },
  {
   "cell_type": "code",
   "execution_count": 6,
   "id": "339fa867-afff-4c1a-a1ec-9f1559a177d3",
   "metadata": {},
   "outputs": [
    {
     "name": "stdout",
     "output_type": "stream",
     "text": [
      "Welcome to Weather Monitoring Station! \n",
      "\n",
      "1. Convert from Celsius to Fahrenheit\n",
      "2. Convert from Fahrenheit to Celsius:\n",
      "\n"
     ]
    },
    {
     "name": "stdin",
     "output_type": "stream",
     "text": [
      "Enter your choice(1 for Celsius or 2 for Farenheit):  1\n",
      "Enter Temperature in Celsius:  23\n"
     ]
    },
    {
     "name": "stdout",
     "output_type": "stream",
     "text": [
      "Temperature in Fahrenheit is: 73.4\n",
      "\n",
      "It's Moderate Temperature nearby you\n"
     ]
    }
   ],
   "source": [
    "print(\"Welcome to Weather Monitoring Station! \\n\\n1. Convert from Celsius to Fahrenheit\\n2. Convert from Fahrenheit to Celsius:\\n\")\n",
    "choice = input(\"Enter your choice(1 for Celsius or 2 for Farenheit): \")\n",
    "\n",
    "if choice == \"1\":\n",
    "    celsius = float(input(\"Enter Temperature in Celsius: \"))\n",
    "    fahrenheit = (celsius * 9/5) + 32\n",
    "    print(f\"Temperature in Fahrenheit is: {fahrenheit}\\n\")\n",
    "    \n",
    "    if(celsius <= 0):\n",
    "         print(\"It's Freezing Temperature nearby you\")\n",
    "    elif(1 <= celsius <= 15):\n",
    "        print(\"It's Cold Weather nearby you\")\n",
    "    elif(16 <= celsius <= 30):\n",
    "        print(\"It's Moderate Temperature nearby you\")\n",
    "    else:\n",
    "        print(\"It's Hot Temperature nearby you\")\n",
    "\n",
    "elif choice == \"2\":\n",
    "    fahrenheit = float(input(\"Enter Temperature in Fahrenheit: \"))\n",
    "    celsius = (fahrenheit - 32) * 5/9\n",
    "    print(f\"Temperature in Celsius is: {celsius}\\n\")\n",
    "    \n",
    "    if(celsius <= 0):\n",
    "         print(\"It's Freezing Temperature nearby you\")\n",
    "    elif(1 <= celsius <= 15):\n",
    "        print(\"It's Cold Weather nearby you\")\n",
    "    elif(16 <= celsius <= 30):\n",
    "        print(\"It's Moderate Temperature nearby you\")\n",
    "    else:\n",
    "        print(\"It's Hot Temperature nearby you\")\n",
    "\n",
    "else:\n",
    "    print(\"Please enter a valid choice\")"
   ]
  },
  {
   "cell_type": "markdown",
   "id": "6940f9b6-b652-4079-bc10-95026684231e",
   "metadata": {},
   "source": [
    "Problem statement:  Write a Python script for displaying whether the given year is a leap year from THE given condition. (THE YEAR SHOULD BE DIVISIBLE BY 4, IF THE YEAR IS DIVISIBLE BY 100 THEN IT SHOULD BE DIVISIBLE BY 400)"
   ]
  },
  {
   "cell_type": "code",
   "execution_count": 10,
   "id": "766e2a5a-e0fb-43ab-8bdc-12839e307b7f",
   "metadata": {},
   "outputs": [
    {
     "name": "stdin",
     "output_type": "stream",
     "text": [
      "Enter the year:  3000\n"
     ]
    },
    {
     "name": "stdout",
     "output_type": "stream",
     "text": [
      "3000 is not a Leap Year.\n"
     ]
    }
   ],
   "source": [
    "year = int(input(\"Enter the year: \"))\n",
    "if year % 4 == 0:\n",
    "    if year % 100 == 0:\n",
    "        if year % 400 == 0:\n",
    "            print(f\"{year} is a Leap year.\")\n",
    "        else:\n",
    "            print(f\"{year} is not a Leap Year.\")\n",
    "    else:\n",
    "        print(f\"{year} is a Leap Year.\")\n",
    "else:\n",
    "    print(f\"{year} is not a Leap Year.\")"
   ]
  },
  {
   "cell_type": "code",
   "execution_count": null,
   "id": "72dfb85c-2797-469c-bccd-14f87e45e286",
   "metadata": {},
   "outputs": [],
   "source": []
  }
 ],
 "metadata": {
  "kernelspec": {
   "display_name": "Python 3 (ipykernel)",
   "language": "python",
   "name": "python3"
  },
  "language_info": {
   "codemirror_mode": {
    "name": "ipython",
    "version": 3
   },
   "file_extension": ".py",
   "mimetype": "text/x-python",
   "name": "python",
   "nbconvert_exporter": "python",
   "pygments_lexer": "ipython3",
   "version": "3.12.5"
  }
 },
 "nbformat": 4,
 "nbformat_minor": 5
}
