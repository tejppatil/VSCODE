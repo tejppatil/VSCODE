{
 "cells": [
  {
   "cell_type": "markdown",
   "id": "7e74b023-f549-4d84-a133-6f8bc8684935",
   "metadata": {},
   "source": [
    "Online Shopping Cart: Imagine you’re developing an online shopping platform. Create a Python program that simulates a user’s shopping cart.\n",
    "•    Allow the user to add product names and prices to their cart.\n",
    "•    Display the current items in the cart.\n",
    "•    Allow the user to remove items from the cart.\n",
    "•    Calculate the total price and display the total number of items in the cart."
   ]
  },
  {
   "cell_type": "code",
   "execution_count": 12,
   "id": "71e46901-9c91-454a-b70b-969420b02f92",
   "metadata": {},
   "outputs": [
    {
     "name": "stdout",
     "output_type": "stream",
     "text": [
      "---Shopping Cart---\n",
      "1. Add New Item to the Cart\n",
      "2. View Current Items in Cart\n",
      "3. Remove Item from the Cart\n",
      "4. View Total Price and Number of Items\n",
      "5. Exit\n",
      "\n"
     ]
    },
    {
     "name": "stdin",
     "output_type": "stream",
     "text": [
      "Enter a Valid Choice:  1\n"
     ]
    },
    {
     "name": "stdout",
     "output_type": "stream",
     "text": [
      "\n",
      ":::: Add a New Item to the Cart ::::\n"
     ]
    },
    {
     "name": "stdin",
     "output_type": "stream",
     "text": [
      "Enter the name of the item:  maaza\n",
      "Enter the price of the item:  23\n"
     ]
    },
    {
     "name": "stdout",
     "output_type": "stream",
     "text": [
      "Item 'maaza' with price $23.0 has been added to the cart.\n",
      "1. Add New Item to the Cart\n",
      "2. View Current Items in Cart\n",
      "3. Remove Item from the Cart\n",
      "4. View Total Price and Number of Items\n",
      "5. Exit\n",
      "\n"
     ]
    },
    {
     "name": "stdin",
     "output_type": "stream",
     "text": [
      "Enter a Valid Choice:  1\n"
     ]
    },
    {
     "name": "stdout",
     "output_type": "stream",
     "text": [
      "\n",
      ":::: Add a New Item to the Cart ::::\n"
     ]
    },
    {
     "name": "stdin",
     "output_type": "stream",
     "text": [
      "Enter the name of the item:  raja marathi aachar\n",
      "Enter the price of the item:  4565\n"
     ]
    },
    {
     "name": "stdout",
     "output_type": "stream",
     "text": [
      "Item 'raja marathi aachar' with price $4565.0 has been added to the cart.\n",
      "1. Add New Item to the Cart\n",
      "2. View Current Items in Cart\n",
      "3. Remove Item from the Cart\n",
      "4. View Total Price and Number of Items\n",
      "5. Exit\n",
      "\n"
     ]
    },
    {
     "name": "stdin",
     "output_type": "stream",
     "text": [
      "Enter a Valid Choice:  4\n"
     ]
    },
    {
     "name": "stdout",
     "output_type": "stream",
     "text": [
      "\n",
      "Total number of items in the cart: 2\n",
      "Total price: $4588.00\n",
      "1. Add New Item to the Cart\n",
      "2. View Current Items in Cart\n",
      "3. Remove Item from the Cart\n",
      "4. View Total Price and Number of Items\n",
      "5. Exit\n",
      "\n"
     ]
    },
    {
     "name": "stdin",
     "output_type": "stream",
     "text": [
      "Enter a Valid Choice:  3\n",
      "Enter the item name to remove:  raja marathi aachar\n"
     ]
    },
    {
     "name": "stdout",
     "output_type": "stream",
     "text": [
      "The item 'raja marathi aachar' has been removed.\n",
      "1. Add New Item to the Cart\n",
      "2. View Current Items in Cart\n",
      "3. Remove Item from the Cart\n",
      "4. View Total Price and Number of Items\n",
      "5. Exit\n",
      "\n"
     ]
    },
    {
     "name": "stdin",
     "output_type": "stream",
     "text": [
      "Enter a Valid Choice:  4\n"
     ]
    },
    {
     "name": "stdout",
     "output_type": "stream",
     "text": [
      "\n",
      "Total number of items in the cart: 1\n",
      "Total price: $23.00\n",
      "1. Add New Item to the Cart\n",
      "2. View Current Items in Cart\n",
      "3. Remove Item from the Cart\n",
      "4. View Total Price and Number of Items\n",
      "5. Exit\n",
      "\n"
     ]
    },
    {
     "name": "stdin",
     "output_type": "stream",
     "text": [
      "Enter a Valid Choice:  5\n"
     ]
    },
    {
     "name": "stdout",
     "output_type": "stream",
     "text": [
      "\n",
      "Exiting the program. Thank you!\n"
     ]
    }
   ],
   "source": [
    "shopping_cart = {}\n",
    "print(\"---Shopping Cart---\")\n",
    "\n",
    "while True:\n",
    "    print(\"1. Add New Item to the Cart\\n2. View Current Items in Cart\\n3. Remove Item from the Cart\\n4. View Total Price and Number of Items\\n5. Exit\\n\")\n",
    "    choice=int(input(\"Enter a Valid Choice: \"))\n",
    "    \n",
    "    if choice == 1:\n",
    "        print(\"\\n:::: Add a New Item to the Cart ::::\")\n",
    "        item_name=input(\"Enter the name of the item: \")\n",
    "        item_price=float(input(\"Enter the price of the item: \"))\n",
    "        shopping_cart[item_name]=item_price\n",
    "        print(f\"Item '{item_name}' with price ${item_price} has been added to the cart.\")\n",
    "    \n",
    "    elif choice == 2:\n",
    "        print(\"\\n:::: Displaying Current Items in the Cart ::::\")\n",
    "        if shopping_cart:\n",
    "            for item, price in shopping_cart.items():\n",
    "                print(f\"{item}: ${price}\")\n",
    "        else:\n",
    "            print(\"The cart is empty.\\n\")\n",
    "    \n",
    "    elif choice == 3:\n",
    "        if shopping_cart:\n",
    "            item_remove = input(\"Enter the item name to remove: \")\n",
    "            if item_remove in shopping_cart:\n",
    "                del shopping_cart[item_remove]\n",
    "                print(f\"The item '{item_remove}' has been removed.\")\n",
    "            else:\n",
    "                print(f\"'{item_remove}' is not in the cart.\")\n",
    "        else:\n",
    "            print(\"The cart is empty, no item to remove.\\n\")\n",
    "    \n",
    "    elif choice == 4:\n",
    "        if shopping_cart:\n",
    "            total_price = sum(shopping_cart.values())\n",
    "            total_items = len(shopping_cart)\n",
    "            print(f\"\\nTotal number of items in the cart: {total_items}\")\n",
    "            print(f\"Total price: ${total_price:.2f}\\n\")\n",
    "        else:\n",
    "            print(\"The cart is empty.\\n\")\n",
    "    \n",
    "    elif choice == 5:\n",
    "        print(\"\\nExiting the program. Thank you!\")\n",
    "        break\n",
    "        \n",
    "    else:\n",
    "        print(\"\\nInvalid choice. Please try again.\")"
   ]
  },
  {
   "cell_type": "raw",
   "id": "85b3fddc-0cc4-45a4-86da-cd827054fcbd",
   "metadata": {},
   "source": [
    "Student Grade Analyzer:  As a teacher, you have a list of student names and scores (out of 100) for a test.\n",
    "•    Write a Python program that calculates the average score and identifies students who scored above the average."
   ]
  },
  {
   "cell_type": "code",
   "execution_count": 6,
   "id": "cd108e88-e591-4b2b-b777-9596c5430996",
   "metadata": {},
   "outputs": [
    {
     "name": "stdout",
     "output_type": "stream",
     "text": [
      "<<<<Student Grade Analyzer>>>>\n"
     ]
    },
    {
     "name": "stdin",
     "output_type": "stream",
     "text": [
      "How many student's grades do you want to enter?  3\n",
      "\n",
      "Enter the name of the student:  Tejas \n",
      "Enter the score obtained by Tejas  (between 0 to 100):  89\n",
      "\n",
      "Enter the name of the student:  Rahul\n",
      "Enter the score obtained by Rahul (between 0 to 100):  65\n",
      "\n",
      "Enter the name of the student:  Vijay\n",
      "Enter the score obtained by Vijay (between 0 to 100):  88\n"
     ]
    },
    {
     "name": "stdout",
     "output_type": "stream",
     "text": [
      "\n",
      "The average score is: 80.67\n",
      "\n",
      "Students who scored above the average:\n",
      "Tejas : 89.00\n",
      "Vijay: 88.00\n"
     ]
    }
   ],
   "source": [
    "std_grade = {}\n",
    "print(\"<<<<Student Grade Analyzer>>>>\")\n",
    "n= int(input(\"How many student's grades do you want to enter? \"))\n",
    "for _ in range(n):\n",
    "    name = input(\"\\nEnter the name of the student: \")\n",
    "    score = float(input(f\"Enter the score obtained by {name} (between 0 to 100): \"))\n",
    "    std_grade[name] = score\n",
    "average_score = sum(std_grade.values()) / len(std_grade)\n",
    "print(f\"\\nThe average score is: {average_score:.2f}\")\n",
    "print(\"\\nStudents who scored above the average:\")\n",
    "for student, score in std_grade.items():\n",
    "    if score > average_score:\n",
    "        print(f\"{student}: {score:.2f}\")"
   ]
  },
  {
   "cell_type": "raw",
   "id": "baf6ee58-b91c-488c-a101-b2549b48931a",
   "metadata": {},
   "source": [
    "Temperature Converter:  You’re building a weather app. Create a Python program that converts temperatures between Celsius and Fahrenheit.\n",
    "•    Prompt the user to enter a temperature value and a unit (C or F).\n",
    "•    Calculate and display the converted temperature.\n",
    "•    Example: If the user enters 32 C, the program should output 89.6 F."
   ]
  },
  {
   "cell_type": "code",
   "execution_count": 11,
   "id": "4ac1c68a-a670-43a3-9403-732b35910e91",
   "metadata": {},
   "outputs": [
    {
     "name": "stdin",
     "output_type": "stream",
     "text": [
      "Enter temperature (e.g., 32 C or 100 F):  100 F\n"
     ]
    },
    {
     "name": "stdout",
     "output_type": "stream",
     "text": [
      "100.0°F is equal to 37.8°C\n"
     ]
    }
   ],
   "source": [
    "n=input(\"Enter temperature (e.g., 32 C or 100 F): \").strip()\n",
    "value, unit=n.split()\n",
    "value = float(value)\n",
    "unit = unit.upper()\n",
    "if unit == \"C\":\n",
    "    converted=(value*9/5)+32\n",
    "    print(f\"{value}°C is equal to {converted:.1f}°F\")\n",
    "elif unit == \"F\":\n",
    "    converted=(value-32)*5/9\n",
    "    print(f\"{value}°F is equal to {converted:.1f}°C\")\n",
    "else:\n",
    "    print(\"Invalid unit. Please enter C for Celsius or F for Fahrenheit.\")"
   ]
  },
  {
   "cell_type": "raw",
   "id": "2023fb0e-1206-4e5c-a2f0-94db971b74e9",
   "metadata": {},
   "source": [
    "Vowel Counter:  You’re developing a text analysis tool. Write a Python program that reads a sentence from the user.\n",
    "•    Count the number of vowels (a, e, i, o, u) in the sentence.\n",
    "•    Display the total count of each vowel."
   ]
  },
  {
   "cell_type": "code",
   "execution_count": 11,
   "id": "1ace3d5e-60dc-46f7-b8d9-d415a162fd5c",
   "metadata": {},
   "outputs": [
    {
     "name": "stdin",
     "output_type": "stream",
     "text": [
      "Enter the sentence:  The input sentence is converted to lowercase to make the program case-insensitive \n"
     ]
    },
    {
     "name": "stdout",
     "output_type": "stream",
     "text": [
      "\n",
      "Vowels in sentence are:\n",
      "A: 4\n",
      "E: 13\n",
      "I: 5\n",
      "O: 5\n",
      "U: 1\n"
     ]
    }
   ],
   "source": [
    "vowels={'a':0,'e':0,'i':0,'o':0,'u':0}\n",
    "n=input(\"Enter the sentence: \").lower()\n",
    "for char in n:\n",
    "    if char in vowels:\n",
    "        vowels[char] += 1\n",
    "print(\"\\nVowels in sentence are:\")\n",
    "for vowel, num in vowels.items():\n",
    "    print(f\"{vowel.upper()}: {num}\")"
   ]
  },
  {
   "cell_type": "raw",
   "id": "9ba3e11b-5891-4546-a3b3-6544fc99c986",
   "metadata": {},
   "source": [
    "Bookstore Inventory:  As a bookstore manager, you create a list of book titles and their corresponding quantities in stock.\n",
    "•    Write a Python program that asks if the user is a manager or a normal user.\n",
    "•    Then allow the manager to create and update the list of books.\n",
    "•    Allow other users to search for a book title and check its availability.\n",
    "•    Prompt the user to enter a book title.\n",
    "•    If the book is in stock, display the quantity available; otherwise, show an appropriate message."
   ]
  },
  {
   "cell_type": "code",
   "execution_count": 14,
   "id": "84ada74a-8af0-4eca-b452-c4271664b60a",
   "metadata": {},
   "outputs": [
    {
     "name": "stdin",
     "output_type": "stream",
     "text": [
      "Are you a manager or a normal user? (Enter 'manager' or 'user'):  user\n",
      "Enter your Name: Dancing with Algorithms\n"
     ]
    },
    {
     "name": "stdout",
     "output_type": "stream",
     "text": [
      "\n",
      "<<<Welcome Dancing with Algorithms!>>>\n"
     ]
    },
    {
     "name": "stdin",
     "output_type": "stream",
     "text": [
      "Enter the title of the book you want to search for:  Dancing with Algorithms\n"
     ]
    },
    {
     "name": "stdout",
     "output_type": "stream",
     "text": [
      "'Dancing with Algorithms' is available with 4 copies in stock.\n"
     ]
    }
   ],
   "source": [
    "book_inventory = {\n",
    "    \"How to Tame Your Inner Chaos\": 10,\n",
    "    \"JavaScript for the Brave and True\": 5,\n",
    "    \"Why Did the Chicken Cross the Road?\": 3,\n",
    "    \"The Art of Doing Nothing\": 7,\n",
    "    \"When Life Gives You Lemons Paint Them Gold\": 2,\n",
    "    \"Eat Code Sleep Repeat\": 8,\n",
    "    \"The Subtle Art of Not Giving Up\": 6,\n",
    "    \"Dancing with Algorithms\": 4,\n",
    "    \"The Subtle Art of Not Giving Up Easily\": 1,\n",
    "    \"A Million Little Problems and How to Solve Them\": 9\n",
    "}\n",
    "role=input(\"Are you a manager or a normal user? (Enter 'manager' or 'user'): \").lower()\n",
    "if role == \"manager\":\n",
    "    print(\"\\n<<<Welcome Manager!>>>\")\n",
    "    new = input(\"Do you have any new books (YES or NO)? \").lower()\n",
    "    if new == \"yes\":\n",
    "        n=int(input(\"Enter the number of new books: \"))\n",
    "        for i in range(n):\n",
    "            new_book=input(f\"Enter the name of book {i + 1}: \")\n",
    "            quantity=int(input(f\"Enter the quantity for '{new_book}': \"))\n",
    "            book_inventory[new_book]=quantity\n",
    "    elif new == \"no\":\n",
    "        print(f\"The total number of books you have is {len(book_inventory)}\")\n",
    "\n",
    "    update = input(\"\\nDo you want to update the quantity of any book (YES or NO)? \").lower()\n",
    "    if update == \"yes\":\n",
    "        book_update = input(\"Enter the book title to update quantity: \")\n",
    "        if book_update in book_inventory:\n",
    "            new_quantity = int(input(f\"Enter the new quantity for '{book_update}': \"))\n",
    "            book_inventory[book_update] = new_quantity\n",
    "            print(f\"The quantity for '{book_update}' has been updated to {new_quantity}.\")\n",
    "        else:\n",
    "            print(f\"'{book_update}' is not in the inventory.\")\n",
    "        \n",
    "elif role == \"user\":\n",
    "    name=input(\"Enter your Name:\")\n",
    "    print(f\"\\n<<<Welcome {name}!>>>\")\n",
    "    book=input(\"Enter the title of the book you want to search for: \")\n",
    "    if book in book_inventory:\n",
    "        print(f\"'{book}' is available with {book_inventory[book]} copies in stock.\")\n",
    "    else:\n",
    "        print(f\"'{book}' is not available in stock.\")\n",
    "else:\n",
    "    print(\"Invalid input. Please enter either 'manager' or 'user'.\")"
   ]
  }
 ],
 "metadata": {
  "kernelspec": {
   "display_name": "Python 3 (ipykernel)",
   "language": "python",
   "name": "python3"
  },
  "language_info": {
   "codemirror_mode": {
    "name": "ipython",
    "version": 3
   },
   "file_extension": ".py",
   "mimetype": "text/x-python",
   "name": "python",
   "nbconvert_exporter": "python",
   "pygments_lexer": "ipython3",
   "version": "3.12.5"
  }
 },
 "nbformat": 4,
 "nbformat_minor": 5
}
